{
 "cells": [
  {
   "cell_type": "markdown",
   "id": "twenty-panel",
   "metadata": {
    "slideshow": {
     "slide_type": "fragment"
    }
   },
   "source": [
    "**INTL6: Inteligência Artificial (2021.1)** <br/>\n",
    "IFSP Campinas\n",
    "\n",
    "Prof. Dr. Samuel Botter Martins <br/><br/>\n",
    "\n",
    "<a rel=\"license\" href=\"http://creativecommons.org/licenses/by-nc-sa/4.0/\"><img alt=\"Creative Commons License\" style=\"border-width:0\" src=\"https://i.creativecommons.org/l/by-nc-sa/4.0/88x31.png\" /></a><br />This work is licensed under a <a rel=\"license\" href=\"http://creativecommons.org/licenses/by-nc-sa/4.0/\">Creative Commons Attribution-NonCommercial-ShareAlike 4.0 International License</a>."
   ]
  },
  {
   "cell_type": "markdown",
   "id": "tamil-salem",
   "metadata": {},
   "source": [
    "### Pacotes usados neste Notebook"
   ]
  },
  {
   "cell_type": "code",
   "execution_count": 1,
   "id": "threaded-distinction",
   "metadata": {},
   "outputs": [],
   "source": [
    "# pacotes usados neste notebook\n",
    "import pandas as pd\n",
    "import seaborn as sns\n",
    "import matplotlib.pyplot as plt\n",
    "import numpy as np"
   ]
  },
  {
   "cell_type": "markdown",
   "id": "endless-dayton",
   "metadata": {},
   "source": [
    "<h1>Análise Exploratória de Dados</h1><hr/>"
   ]
  },
  {
   "cell_type": "markdown",
   "id": "separate-boundary",
   "metadata": {},
   "source": [
    "A **Análise Exploratória de Dados** refere-se ao processo de investigação de dados (de um problema) para a descoberta de _insights_, padrões, anomalias, testar hipóteses e checar suposições com a ajuda de técnicas e conceitos estatísticos e representações visuais/gráficas."
   ]
  },
  {
   "cell_type": "markdown",
   "id": "sitting-criterion",
   "metadata": {},
   "source": [
    "<h2>1. Dataset</h2>\n",
    "<hr/>"
   ]
  },
  {
   "cell_type": "markdown",
   "id": "egyptian-conspiracy",
   "metadata": {},
   "source": [
    "**Dataset**: Gas Prices in Brazil: https://www.kaggle.com/matheusfreitag/gas-prices-in-brazil <br/>\n",
    "\n",
    "Este dataset contém os **registros dos preços médios semanais dos combustíveis do Brasil entre os anos de 2004 e 2019**. <br/>\n",
    "Cada *amostra (registro/linha)* consiste em um registro de preço aferido para um dado tipo de combustível em uma dada localidade do Brasil. <br/>\n",
    "Alguns dos principais *atributos* (colunas) do dataset são: 'ESTADO', 'PRODUTO', 'NÚMERO DE POSTOS PESQUISADOS', 'PREÇO MÉDIO REVENDA'."
   ]
  },
  {
   "cell_type": "markdown",
   "id": "local-undergraduate",
   "metadata": {},
   "source": [
    "O dataset utilizado neste notebook já foi _pré-processado_ anteriormente. Para mais informações, cheque os vídeos mostrados do curso [\"Pandas Essencial\" no YouTube](https://www.youtube.com/playlist?list=PL3ZslI15yo2pfkf7EGNR14xTwe-wZ2bNX), onde realizamos tal preprocessamento."
   ]
  },
  {
   "cell_type": "markdown",
   "id": "extensive-continent",
   "metadata": {},
   "source": [
    "### 1.1. Importando o Dataset"
   ]
  },
  {
   "cell_type": "code",
   "execution_count": 2,
   "id": "exposed-electricity",
   "metadata": {},
   "outputs": [],
   "source": [
    "df = pd.read_csv('./datasets/GasPricesinBrazil_2004-2019_preprocessado_final.csv')"
   ]
  },
  {
   "cell_type": "code",
   "execution_count": 3,
   "id": "legitimate-australian",
   "metadata": {},
   "outputs": [
    {
     "data": {
      "text/html": [
       "<div>\n",
       "<style scoped>\n",
       "    .dataframe tbody tr th:only-of-type {\n",
       "        vertical-align: middle;\n",
       "    }\n",
       "\n",
       "    .dataframe tbody tr th {\n",
       "        vertical-align: top;\n",
       "    }\n",
       "\n",
       "    .dataframe thead th {\n",
       "        text-align: right;\n",
       "    }\n",
       "</style>\n",
       "<table border=\"1\" class=\"dataframe\">\n",
       "  <thead>\n",
       "    <tr style=\"text-align: right;\">\n",
       "      <th></th>\n",
       "      <th>DATA INICIAL</th>\n",
       "      <th>DATA FINAL</th>\n",
       "      <th>REGIÃO</th>\n",
       "      <th>ESTADO</th>\n",
       "      <th>PRODUTO</th>\n",
       "      <th>NÚMERO DE POSTOS PESQUISADOS</th>\n",
       "      <th>UNIDADE DE MEDIDA</th>\n",
       "      <th>PREÇO MÉDIO REVENDA</th>\n",
       "      <th>DESVIO PADRÃO REVENDA</th>\n",
       "      <th>PREÇO MÍNIMO REVENDA</th>\n",
       "      <th>PREÇO MÁXIMO REVENDA</th>\n",
       "      <th>MARGEM MÉDIA REVENDA</th>\n",
       "      <th>COEF DE VARIAÇÃO REVENDA</th>\n",
       "      <th>PREÇO MÉDIO DISTRIBUIÇÃO</th>\n",
       "      <th>DESVIO PADRÃO DISTRIBUIÇÃO</th>\n",
       "      <th>PREÇO MÍNIMO DISTRIBUIÇÃO</th>\n",
       "      <th>PREÇO MÁXIMO DISTRIBUIÇÃO</th>\n",
       "      <th>COEF DE VARIAÇÃO DISTRIBUIÇÃO</th>\n",
       "      <th>MÊS</th>\n",
       "      <th>ANO</th>\n",
       "    </tr>\n",
       "  </thead>\n",
       "  <tbody>\n",
       "    <tr>\n",
       "      <th>0</th>\n",
       "      <td>2004-05-09</td>\n",
       "      <td>2004-05-15</td>\n",
       "      <td>CENTRO OESTE</td>\n",
       "      <td>DISTRITO FEDERAL</td>\n",
       "      <td>ETANOL HIDRATADO</td>\n",
       "      <td>127</td>\n",
       "      <td>R$/l</td>\n",
       "      <td>1.288</td>\n",
       "      <td>0.016</td>\n",
       "      <td>1.190</td>\n",
       "      <td>1.350</td>\n",
       "      <td>0.463</td>\n",
       "      <td>0.012</td>\n",
       "      <td>0.825</td>\n",
       "      <td>0.110</td>\n",
       "      <td>0.4201</td>\n",
       "      <td>0.96660</td>\n",
       "      <td>0.133</td>\n",
       "      <td>5</td>\n",
       "      <td>2004</td>\n",
       "    </tr>\n",
       "    <tr>\n",
       "      <th>1</th>\n",
       "      <td>2004-05-09</td>\n",
       "      <td>2004-05-15</td>\n",
       "      <td>CENTRO OESTE</td>\n",
       "      <td>GOIAS</td>\n",
       "      <td>ETANOL HIDRATADO</td>\n",
       "      <td>387</td>\n",
       "      <td>R$/l</td>\n",
       "      <td>1.162</td>\n",
       "      <td>0.114</td>\n",
       "      <td>0.890</td>\n",
       "      <td>1.449</td>\n",
       "      <td>0.399</td>\n",
       "      <td>0.098</td>\n",
       "      <td>0.763</td>\n",
       "      <td>0.088</td>\n",
       "      <td>0.5013</td>\n",
       "      <td>1.05000</td>\n",
       "      <td>0.115</td>\n",
       "      <td>5</td>\n",
       "      <td>2004</td>\n",
       "    </tr>\n",
       "    <tr>\n",
       "      <th>2</th>\n",
       "      <td>2004-05-09</td>\n",
       "      <td>2004-05-15</td>\n",
       "      <td>CENTRO OESTE</td>\n",
       "      <td>MATO GROSSO</td>\n",
       "      <td>ETANOL HIDRATADO</td>\n",
       "      <td>192</td>\n",
       "      <td>R$/l</td>\n",
       "      <td>1.389</td>\n",
       "      <td>0.097</td>\n",
       "      <td>1.180</td>\n",
       "      <td>1.760</td>\n",
       "      <td>0.419</td>\n",
       "      <td>0.070</td>\n",
       "      <td>0.970</td>\n",
       "      <td>0.095</td>\n",
       "      <td>0.5614</td>\n",
       "      <td>1.16100</td>\n",
       "      <td>0.098</td>\n",
       "      <td>5</td>\n",
       "      <td>2004</td>\n",
       "    </tr>\n",
       "    <tr>\n",
       "      <th>3</th>\n",
       "      <td>2004-05-09</td>\n",
       "      <td>2004-05-15</td>\n",
       "      <td>CENTRO OESTE</td>\n",
       "      <td>MATO GROSSO DO SUL</td>\n",
       "      <td>ETANOL HIDRATADO</td>\n",
       "      <td>162</td>\n",
       "      <td>R$/l</td>\n",
       "      <td>1.262</td>\n",
       "      <td>0.070</td>\n",
       "      <td>1.090</td>\n",
       "      <td>1.509</td>\n",
       "      <td>0.432</td>\n",
       "      <td>0.055</td>\n",
       "      <td>0.830</td>\n",
       "      <td>0.119</td>\n",
       "      <td>0.5991</td>\n",
       "      <td>1.22242</td>\n",
       "      <td>0.143</td>\n",
       "      <td>5</td>\n",
       "      <td>2004</td>\n",
       "    </tr>\n",
       "    <tr>\n",
       "      <th>4</th>\n",
       "      <td>2004-05-09</td>\n",
       "      <td>2004-05-15</td>\n",
       "      <td>NORDESTE</td>\n",
       "      <td>ALAGOAS</td>\n",
       "      <td>ETANOL HIDRATADO</td>\n",
       "      <td>103</td>\n",
       "      <td>R$/l</td>\n",
       "      <td>1.181</td>\n",
       "      <td>0.078</td>\n",
       "      <td>1.050</td>\n",
       "      <td>1.400</td>\n",
       "      <td>0.240</td>\n",
       "      <td>0.066</td>\n",
       "      <td>0.941</td>\n",
       "      <td>0.077</td>\n",
       "      <td>0.7441</td>\n",
       "      <td>1.03170</td>\n",
       "      <td>0.082</td>\n",
       "      <td>5</td>\n",
       "      <td>2004</td>\n",
       "    </tr>\n",
       "    <tr>\n",
       "      <th>...</th>\n",
       "      <td>...</td>\n",
       "      <td>...</td>\n",
       "      <td>...</td>\n",
       "      <td>...</td>\n",
       "      <td>...</td>\n",
       "      <td>...</td>\n",
       "      <td>...</td>\n",
       "      <td>...</td>\n",
       "      <td>...</td>\n",
       "      <td>...</td>\n",
       "      <td>...</td>\n",
       "      <td>...</td>\n",
       "      <td>...</td>\n",
       "      <td>...</td>\n",
       "      <td>...</td>\n",
       "      <td>...</td>\n",
       "      <td>...</td>\n",
       "      <td>...</td>\n",
       "      <td>...</td>\n",
       "      <td>...</td>\n",
       "    </tr>\n",
       "    <tr>\n",
       "      <th>103387</th>\n",
       "      <td>2019-06-23</td>\n",
       "      <td>2019-06-29</td>\n",
       "      <td>NORDESTE</td>\n",
       "      <td>RIO GRANDE DO NORTE</td>\n",
       "      <td>GNV</td>\n",
       "      <td>7</td>\n",
       "      <td>R$/m3</td>\n",
       "      <td>3.574</td>\n",
       "      <td>0.065</td>\n",
       "      <td>3.499</td>\n",
       "      <td>3.690</td>\n",
       "      <td>0.818</td>\n",
       "      <td>0.018</td>\n",
       "      <td>2.756</td>\n",
       "      <td>0.000</td>\n",
       "      <td>2.7560</td>\n",
       "      <td>2.75600</td>\n",
       "      <td>0.000</td>\n",
       "      <td>6</td>\n",
       "      <td>2019</td>\n",
       "    </tr>\n",
       "    <tr>\n",
       "      <th>103388</th>\n",
       "      <td>2019-06-23</td>\n",
       "      <td>2019-06-29</td>\n",
       "      <td>SUL</td>\n",
       "      <td>RIO GRANDE DO SUL</td>\n",
       "      <td>GNV</td>\n",
       "      <td>23</td>\n",
       "      <td>R$/m3</td>\n",
       "      <td>3.401</td>\n",
       "      <td>0.129</td>\n",
       "      <td>3.230</td>\n",
       "      <td>3.789</td>\n",
       "      <td>0.950</td>\n",
       "      <td>0.038</td>\n",
       "      <td>2.451</td>\n",
       "      <td>0.402</td>\n",
       "      <td>1.9842</td>\n",
       "      <td>2.86610</td>\n",
       "      <td>0.164</td>\n",
       "      <td>6</td>\n",
       "      <td>2019</td>\n",
       "    </tr>\n",
       "    <tr>\n",
       "      <th>103389</th>\n",
       "      <td>2019-06-23</td>\n",
       "      <td>2019-06-29</td>\n",
       "      <td>SUL</td>\n",
       "      <td>SANTA CATARINA</td>\n",
       "      <td>GNV</td>\n",
       "      <td>24</td>\n",
       "      <td>R$/m3</td>\n",
       "      <td>2.912</td>\n",
       "      <td>0.190</td>\n",
       "      <td>2.699</td>\n",
       "      <td>3.499</td>\n",
       "      <td>0.914</td>\n",
       "      <td>0.065</td>\n",
       "      <td>1.998</td>\n",
       "      <td>0.000</td>\n",
       "      <td>1.9981</td>\n",
       "      <td>1.99810</td>\n",
       "      <td>0.000</td>\n",
       "      <td>6</td>\n",
       "      <td>2019</td>\n",
       "    </tr>\n",
       "    <tr>\n",
       "      <th>103390</th>\n",
       "      <td>2019-06-23</td>\n",
       "      <td>2019-06-29</td>\n",
       "      <td>SUDESTE</td>\n",
       "      <td>SAO PAULO</td>\n",
       "      <td>GNV</td>\n",
       "      <td>52</td>\n",
       "      <td>R$/m3</td>\n",
       "      <td>3.020</td>\n",
       "      <td>0.229</td>\n",
       "      <td>2.699</td>\n",
       "      <td>3.490</td>\n",
       "      <td>0.646</td>\n",
       "      <td>0.076</td>\n",
       "      <td>2.374</td>\n",
       "      <td>0.165</td>\n",
       "      <td>2.0179</td>\n",
       "      <td>2.50930</td>\n",
       "      <td>0.070</td>\n",
       "      <td>6</td>\n",
       "      <td>2019</td>\n",
       "    </tr>\n",
       "    <tr>\n",
       "      <th>103391</th>\n",
       "      <td>2019-06-23</td>\n",
       "      <td>2019-06-29</td>\n",
       "      <td>NORDESTE</td>\n",
       "      <td>SERGIPE</td>\n",
       "      <td>GNV</td>\n",
       "      <td>4</td>\n",
       "      <td>R$/m3</td>\n",
       "      <td>3.697</td>\n",
       "      <td>0.005</td>\n",
       "      <td>3.689</td>\n",
       "      <td>3.699</td>\n",
       "      <td>1.179</td>\n",
       "      <td>0.001</td>\n",
       "      <td>2.518</td>\n",
       "      <td>0.000</td>\n",
       "      <td>2.5175</td>\n",
       "      <td>2.51750</td>\n",
       "      <td>0.000</td>\n",
       "      <td>6</td>\n",
       "      <td>2019</td>\n",
       "    </tr>\n",
       "  </tbody>\n",
       "</table>\n",
       "<p>103392 rows × 20 columns</p>\n",
       "</div>"
      ],
      "text/plain": [
       "       DATA INICIAL  DATA FINAL        REGIÃO               ESTADO  \\\n",
       "0        2004-05-09  2004-05-15  CENTRO OESTE     DISTRITO FEDERAL   \n",
       "1        2004-05-09  2004-05-15  CENTRO OESTE                GOIAS   \n",
       "2        2004-05-09  2004-05-15  CENTRO OESTE          MATO GROSSO   \n",
       "3        2004-05-09  2004-05-15  CENTRO OESTE   MATO GROSSO DO SUL   \n",
       "4        2004-05-09  2004-05-15      NORDESTE              ALAGOAS   \n",
       "...             ...         ...           ...                  ...   \n",
       "103387   2019-06-23  2019-06-29      NORDESTE  RIO GRANDE DO NORTE   \n",
       "103388   2019-06-23  2019-06-29           SUL    RIO GRANDE DO SUL   \n",
       "103389   2019-06-23  2019-06-29           SUL       SANTA CATARINA   \n",
       "103390   2019-06-23  2019-06-29       SUDESTE            SAO PAULO   \n",
       "103391   2019-06-23  2019-06-29      NORDESTE              SERGIPE   \n",
       "\n",
       "                 PRODUTO  NÚMERO DE POSTOS PESQUISADOS UNIDADE DE MEDIDA  \\\n",
       "0       ETANOL HIDRATADO                           127              R$/l   \n",
       "1       ETANOL HIDRATADO                           387              R$/l   \n",
       "2       ETANOL HIDRATADO                           192              R$/l   \n",
       "3       ETANOL HIDRATADO                           162              R$/l   \n",
       "4       ETANOL HIDRATADO                           103              R$/l   \n",
       "...                  ...                           ...               ...   \n",
       "103387               GNV                             7             R$/m3   \n",
       "103388               GNV                            23             R$/m3   \n",
       "103389               GNV                            24             R$/m3   \n",
       "103390               GNV                            52             R$/m3   \n",
       "103391               GNV                             4             R$/m3   \n",
       "\n",
       "        PREÇO MÉDIO REVENDA  DESVIO PADRÃO REVENDA  PREÇO MÍNIMO REVENDA  \\\n",
       "0                     1.288                  0.016                 1.190   \n",
       "1                     1.162                  0.114                 0.890   \n",
       "2                     1.389                  0.097                 1.180   \n",
       "3                     1.262                  0.070                 1.090   \n",
       "4                     1.181                  0.078                 1.050   \n",
       "...                     ...                    ...                   ...   \n",
       "103387                3.574                  0.065                 3.499   \n",
       "103388                3.401                  0.129                 3.230   \n",
       "103389                2.912                  0.190                 2.699   \n",
       "103390                3.020                  0.229                 2.699   \n",
       "103391                3.697                  0.005                 3.689   \n",
       "\n",
       "        PREÇO MÁXIMO REVENDA  MARGEM MÉDIA REVENDA  COEF DE VARIAÇÃO REVENDA  \\\n",
       "0                      1.350                 0.463                     0.012   \n",
       "1                      1.449                 0.399                     0.098   \n",
       "2                      1.760                 0.419                     0.070   \n",
       "3                      1.509                 0.432                     0.055   \n",
       "4                      1.400                 0.240                     0.066   \n",
       "...                      ...                   ...                       ...   \n",
       "103387                 3.690                 0.818                     0.018   \n",
       "103388                 3.789                 0.950                     0.038   \n",
       "103389                 3.499                 0.914                     0.065   \n",
       "103390                 3.490                 0.646                     0.076   \n",
       "103391                 3.699                 1.179                     0.001   \n",
       "\n",
       "        PREÇO MÉDIO DISTRIBUIÇÃO  DESVIO PADRÃO DISTRIBUIÇÃO  \\\n",
       "0                          0.825                       0.110   \n",
       "1                          0.763                       0.088   \n",
       "2                          0.970                       0.095   \n",
       "3                          0.830                       0.119   \n",
       "4                          0.941                       0.077   \n",
       "...                          ...                         ...   \n",
       "103387                     2.756                       0.000   \n",
       "103388                     2.451                       0.402   \n",
       "103389                     1.998                       0.000   \n",
       "103390                     2.374                       0.165   \n",
       "103391                     2.518                       0.000   \n",
       "\n",
       "        PREÇO MÍNIMO DISTRIBUIÇÃO  PREÇO MÁXIMO DISTRIBUIÇÃO  \\\n",
       "0                          0.4201                    0.96660   \n",
       "1                          0.5013                    1.05000   \n",
       "2                          0.5614                    1.16100   \n",
       "3                          0.5991                    1.22242   \n",
       "4                          0.7441                    1.03170   \n",
       "...                           ...                        ...   \n",
       "103387                     2.7560                    2.75600   \n",
       "103388                     1.9842                    2.86610   \n",
       "103389                     1.9981                    1.99810   \n",
       "103390                     2.0179                    2.50930   \n",
       "103391                     2.5175                    2.51750   \n",
       "\n",
       "        COEF DE VARIAÇÃO DISTRIBUIÇÃO  MÊS   ANO  \n",
       "0                               0.133    5  2004  \n",
       "1                               0.115    5  2004  \n",
       "2                               0.098    5  2004  \n",
       "3                               0.143    5  2004  \n",
       "4                               0.082    5  2004  \n",
       "...                               ...  ...   ...  \n",
       "103387                          0.000    6  2019  \n",
       "103388                          0.164    6  2019  \n",
       "103389                          0.000    6  2019  \n",
       "103390                          0.070    6  2019  \n",
       "103391                          0.000    6  2019  \n",
       "\n",
       "[103392 rows x 20 columns]"
      ]
     },
     "execution_count": 3,
     "metadata": {},
     "output_type": "execute_result"
    }
   ],
   "source": [
    "df"
   ]
  },
  {
   "cell_type": "markdown",
   "id": "favorite-alert",
   "metadata": {},
   "source": [
    "### 1.2. Informações básicas do Dataset"
   ]
  },
  {
   "cell_type": "code",
   "execution_count": 4,
   "id": "precise-trick",
   "metadata": {},
   "outputs": [
    {
     "name": "stdout",
     "output_type": "stream",
     "text": [
      "<class 'pandas.core.frame.DataFrame'>\n",
      "RangeIndex: 103392 entries, 0 to 103391\n",
      "Data columns (total 20 columns):\n",
      " #   Column                         Non-Null Count   Dtype  \n",
      "---  ------                         --------------   -----  \n",
      " 0   DATA INICIAL                   103392 non-null  object \n",
      " 1   DATA FINAL                     103392 non-null  object \n",
      " 2   REGIÃO                         103392 non-null  object \n",
      " 3   ESTADO                         103392 non-null  object \n",
      " 4   PRODUTO                        103392 non-null  object \n",
      " 5   NÚMERO DE POSTOS PESQUISADOS   103392 non-null  int64  \n",
      " 6   UNIDADE DE MEDIDA              103392 non-null  object \n",
      " 7   PREÇO MÉDIO REVENDA            103392 non-null  float64\n",
      " 8   DESVIO PADRÃO REVENDA          103392 non-null  float64\n",
      " 9   PREÇO MÍNIMO REVENDA           103392 non-null  float64\n",
      " 10  PREÇO MÁXIMO REVENDA           103392 non-null  float64\n",
      " 11  MARGEM MÉDIA REVENDA           103392 non-null  float64\n",
      " 12  COEF DE VARIAÇÃO REVENDA       103392 non-null  float64\n",
      " 13  PREÇO MÉDIO DISTRIBUIÇÃO       103392 non-null  float64\n",
      " 14  DESVIO PADRÃO DISTRIBUIÇÃO     103392 non-null  float64\n",
      " 15  PREÇO MÍNIMO DISTRIBUIÇÃO      103392 non-null  float64\n",
      " 16  PREÇO MÁXIMO DISTRIBUIÇÃO      103392 non-null  float64\n",
      " 17  COEF DE VARIAÇÃO DISTRIBUIÇÃO  103392 non-null  float64\n",
      " 18  MÊS                            103392 non-null  int64  \n",
      " 19  ANO                            103392 non-null  int64  \n",
      "dtypes: float64(11), int64(3), object(6)\n",
      "memory usage: 15.8+ MB\n"
     ]
    }
   ],
   "source": [
    "df.info()"
   ]
  },
  {
   "cell_type": "markdown",
   "id": "stock-optimization",
   "metadata": {},
   "source": [
    "<br/>\n",
    "\n",
    "O dataset possui **103392** registros/observações/linhas e **20** atributos/variáveis/colunas.\n",
    "Não há nenhum valor null nas colunas (uma checagem mais rigorosa foi feita no curso [\"Pandas Essencial\"](https://www.youtube.com/playlist?list=PL3ZslI15yo2pfkf7EGNR14xTwe-wZ2bNX))."
   ]
  },
  {
   "cell_type": "markdown",
   "id": "negative-castle",
   "metadata": {},
   "source": [
    "<h2>2. Análise Exploratória de Dados</h2>\n",
    "<hr/>"
   ]
  },
  {
   "cell_type": "markdown",
   "id": "metallic-minority",
   "metadata": {},
   "source": [
    "### 2.1 Como os preços da Gasolina Comum em São Paulo variaram em 2018?"
   ]
  },
  {
   "cell_type": "code",
   "execution_count": 6,
   "id": "cross-response",
   "metadata": {},
   "outputs": [
    {
     "data": {
      "text/plain": [
       "array(['DISTRITO FEDERAL', 'GOIAS', 'MATO GROSSO', 'MATO GROSSO DO SUL',\n",
       "       'ALAGOAS', 'BAHIA', 'CEARA', 'MARANHAO', 'PARAIBA', 'PERNAMBUCO',\n",
       "       'PIAUI', 'RIO GRANDE DO NORTE', 'SERGIPE', 'ACRE', 'AMAPA',\n",
       "       'AMAZONAS', 'PARA', 'RONDONIA', 'RORAIMA', 'TOCANTINS',\n",
       "       'ESPIRITO SANTO', 'MINAS GERAIS', 'RIO DE JANEIRO', 'SAO PAULO',\n",
       "       'PARANA', 'RIO GRANDE DO SUL', 'SANTA CATARINA'], dtype=object)"
      ]
     },
     "execution_count": 6,
     "metadata": {},
     "output_type": "execute_result"
    }
   ],
   "source": [
    "df['ESTADO'].unique()"
   ]
  },
  {
   "cell_type": "code",
   "execution_count": 7,
   "id": "floral-bacon",
   "metadata": {},
   "outputs": [
    {
     "data": {
      "text/plain": [
       "array(['ETANOL HIDRATADO', 'GASOLINA COMUM', 'GLP', 'GNV', 'ÓLEO DIESEL',\n",
       "       'ÓLEO DIESEL S10'], dtype=object)"
      ]
     },
     "execution_count": 7,
     "metadata": {},
     "output_type": "execute_result"
    }
   ],
   "source": [
    "df['PRODUTO'].unique()"
   ]
  },
  {
   "cell_type": "code",
   "execution_count": 13,
   "id": "designing-probability",
   "metadata": {},
   "outputs": [
    {
     "data": {
      "text/html": [
       "<div>\n",
       "<style scoped>\n",
       "    .dataframe tbody tr th:only-of-type {\n",
       "        vertical-align: middle;\n",
       "    }\n",
       "\n",
       "    .dataframe tbody tr th {\n",
       "        vertical-align: top;\n",
       "    }\n",
       "\n",
       "    .dataframe thead th {\n",
       "        text-align: right;\n",
       "    }\n",
       "</style>\n",
       "<table border=\"1\" class=\"dataframe\">\n",
       "  <thead>\n",
       "    <tr style=\"text-align: right;\">\n",
       "      <th></th>\n",
       "      <th>DATA INICIAL</th>\n",
       "      <th>DATA FINAL</th>\n",
       "      <th>REGIÃO</th>\n",
       "      <th>ESTADO</th>\n",
       "      <th>PRODUTO</th>\n",
       "      <th>NÚMERO DE POSTOS PESQUISADOS</th>\n",
       "      <th>UNIDADE DE MEDIDA</th>\n",
       "      <th>PREÇO MÉDIO REVENDA</th>\n",
       "      <th>DESVIO PADRÃO REVENDA</th>\n",
       "      <th>PREÇO MÍNIMO REVENDA</th>\n",
       "      <th>PREÇO MÁXIMO REVENDA</th>\n",
       "      <th>MARGEM MÉDIA REVENDA</th>\n",
       "      <th>COEF DE VARIAÇÃO REVENDA</th>\n",
       "      <th>PREÇO MÉDIO DISTRIBUIÇÃO</th>\n",
       "      <th>DESVIO PADRÃO DISTRIBUIÇÃO</th>\n",
       "      <th>PREÇO MÍNIMO DISTRIBUIÇÃO</th>\n",
       "      <th>PREÇO MÁXIMO DISTRIBUIÇÃO</th>\n",
       "      <th>COEF DE VARIAÇÃO DISTRIBUIÇÃO</th>\n",
       "      <th>MÊS</th>\n",
       "      <th>ANO</th>\n",
       "    </tr>\n",
       "  </thead>\n",
       "  <tbody>\n",
       "    <tr>\n",
       "      <th>0</th>\n",
       "      <td>2018-01-07</td>\n",
       "      <td>2018-01-13</td>\n",
       "      <td>SUDESTE</td>\n",
       "      <td>SAO PAULO</td>\n",
       "      <td>GASOLINA COMUM</td>\n",
       "      <td>1641</td>\n",
       "      <td>R$/l</td>\n",
       "      <td>3.988</td>\n",
       "      <td>0.156</td>\n",
       "      <td>3.499</td>\n",
       "      <td>4.599</td>\n",
       "      <td>0.411</td>\n",
       "      <td>0.039</td>\n",
       "      <td>3.577</td>\n",
       "      <td>0.104</td>\n",
       "      <td>2.990</td>\n",
       "      <td>3.9510</td>\n",
       "      <td>0.029</td>\n",
       "      <td>1</td>\n",
       "      <td>2018</td>\n",
       "    </tr>\n",
       "    <tr>\n",
       "      <th>1</th>\n",
       "      <td>2018-01-14</td>\n",
       "      <td>2018-01-20</td>\n",
       "      <td>SUDESTE</td>\n",
       "      <td>SAO PAULO</td>\n",
       "      <td>GASOLINA COMUM</td>\n",
       "      <td>1648</td>\n",
       "      <td>R$/l</td>\n",
       "      <td>4.002</td>\n",
       "      <td>0.155</td>\n",
       "      <td>3.549</td>\n",
       "      <td>4.499</td>\n",
       "      <td>0.412</td>\n",
       "      <td>0.039</td>\n",
       "      <td>3.590</td>\n",
       "      <td>0.102</td>\n",
       "      <td>2.990</td>\n",
       "      <td>3.9014</td>\n",
       "      <td>0.028</td>\n",
       "      <td>1</td>\n",
       "      <td>2018</td>\n",
       "    </tr>\n",
       "    <tr>\n",
       "      <th>2</th>\n",
       "      <td>2018-01-21</td>\n",
       "      <td>2018-01-27</td>\n",
       "      <td>SUDESTE</td>\n",
       "      <td>SAO PAULO</td>\n",
       "      <td>GASOLINA COMUM</td>\n",
       "      <td>1648</td>\n",
       "      <td>R$/l</td>\n",
       "      <td>4.006</td>\n",
       "      <td>0.160</td>\n",
       "      <td>3.499</td>\n",
       "      <td>4.899</td>\n",
       "      <td>0.410</td>\n",
       "      <td>0.040</td>\n",
       "      <td>3.596</td>\n",
       "      <td>0.102</td>\n",
       "      <td>2.990</td>\n",
       "      <td>3.9014</td>\n",
       "      <td>0.028</td>\n",
       "      <td>1</td>\n",
       "      <td>2018</td>\n",
       "    </tr>\n",
       "    <tr>\n",
       "      <th>3</th>\n",
       "      <td>2018-01-28</td>\n",
       "      <td>2018-02-03</td>\n",
       "      <td>SUDESTE</td>\n",
       "      <td>SAO PAULO</td>\n",
       "      <td>GASOLINA COMUM</td>\n",
       "      <td>1644</td>\n",
       "      <td>R$/l</td>\n",
       "      <td>4.019</td>\n",
       "      <td>0.156</td>\n",
       "      <td>3.579</td>\n",
       "      <td>4.699</td>\n",
       "      <td>0.423</td>\n",
       "      <td>0.039</td>\n",
       "      <td>3.596</td>\n",
       "      <td>0.107</td>\n",
       "      <td>2.924</td>\n",
       "      <td>3.9537</td>\n",
       "      <td>0.030</td>\n",
       "      <td>1</td>\n",
       "      <td>2018</td>\n",
       "    </tr>\n",
       "    <tr>\n",
       "      <th>4</th>\n",
       "      <td>2018-02-04</td>\n",
       "      <td>2018-02-10</td>\n",
       "      <td>SUDESTE</td>\n",
       "      <td>SAO PAULO</td>\n",
       "      <td>GASOLINA COMUM</td>\n",
       "      <td>1646</td>\n",
       "      <td>R$/l</td>\n",
       "      <td>4.004</td>\n",
       "      <td>0.157</td>\n",
       "      <td>3.579</td>\n",
       "      <td>4.597</td>\n",
       "      <td>0.416</td>\n",
       "      <td>0.039</td>\n",
       "      <td>3.588</td>\n",
       "      <td>0.102</td>\n",
       "      <td>2.990</td>\n",
       "      <td>3.9537</td>\n",
       "      <td>0.028</td>\n",
       "      <td>2</td>\n",
       "      <td>2018</td>\n",
       "    </tr>\n",
       "  </tbody>\n",
       "</table>\n",
       "</div>"
      ],
      "text/plain": [
       "  DATA INICIAL  DATA FINAL   REGIÃO     ESTADO         PRODUTO  \\\n",
       "0   2018-01-07  2018-01-13  SUDESTE  SAO PAULO  GASOLINA COMUM   \n",
       "1   2018-01-14  2018-01-20  SUDESTE  SAO PAULO  GASOLINA COMUM   \n",
       "2   2018-01-21  2018-01-27  SUDESTE  SAO PAULO  GASOLINA COMUM   \n",
       "3   2018-01-28  2018-02-03  SUDESTE  SAO PAULO  GASOLINA COMUM   \n",
       "4   2018-02-04  2018-02-10  SUDESTE  SAO PAULO  GASOLINA COMUM   \n",
       "\n",
       "   NÚMERO DE POSTOS PESQUISADOS UNIDADE DE MEDIDA  PREÇO MÉDIO REVENDA  \\\n",
       "0                          1641              R$/l                3.988   \n",
       "1                          1648              R$/l                4.002   \n",
       "2                          1648              R$/l                4.006   \n",
       "3                          1644              R$/l                4.019   \n",
       "4                          1646              R$/l                4.004   \n",
       "\n",
       "   DESVIO PADRÃO REVENDA  PREÇO MÍNIMO REVENDA  PREÇO MÁXIMO REVENDA  \\\n",
       "0                  0.156                 3.499                 4.599   \n",
       "1                  0.155                 3.549                 4.499   \n",
       "2                  0.160                 3.499                 4.899   \n",
       "3                  0.156                 3.579                 4.699   \n",
       "4                  0.157                 3.579                 4.597   \n",
       "\n",
       "   MARGEM MÉDIA REVENDA  COEF DE VARIAÇÃO REVENDA  PREÇO MÉDIO DISTRIBUIÇÃO  \\\n",
       "0                 0.411                     0.039                     3.577   \n",
       "1                 0.412                     0.039                     3.590   \n",
       "2                 0.410                     0.040                     3.596   \n",
       "3                 0.423                     0.039                     3.596   \n",
       "4                 0.416                     0.039                     3.588   \n",
       "\n",
       "   DESVIO PADRÃO DISTRIBUIÇÃO  PREÇO MÍNIMO DISTRIBUIÇÃO  \\\n",
       "0                       0.104                      2.990   \n",
       "1                       0.102                      2.990   \n",
       "2                       0.102                      2.990   \n",
       "3                       0.107                      2.924   \n",
       "4                       0.102                      2.990   \n",
       "\n",
       "   PREÇO MÁXIMO DISTRIBUIÇÃO  COEF DE VARIAÇÃO DISTRIBUIÇÃO  MÊS   ANO  \n",
       "0                     3.9510                          0.029    1  2018  \n",
       "1                     3.9014                          0.028    1  2018  \n",
       "2                     3.9014                          0.028    1  2018  \n",
       "3                     3.9537                          0.030    1  2018  \n",
       "4                     3.9537                          0.028    2  2018  "
      ]
     },
     "execution_count": 13,
     "metadata": {},
     "output_type": "execute_result"
    }
   ],
   "source": [
    "gasolina_sp_2018 = df.query('ESTADO == \"SAO PAULO\" and PRODUTO == \"GASOLINA COMUM\" and ANO == 2018').reset_index(drop=True)\n",
    "gasolina_sp_2018.head()"
   ]
  },
  {
   "cell_type": "code",
   "execution_count": 14,
   "id": "antique-instrumentation",
   "metadata": {},
   "outputs": [
    {
     "data": {
      "text/plain": [
       "(52, 20)"
      ]
     },
     "execution_count": 14,
     "metadata": {},
     "output_type": "execute_result"
    }
   ],
   "source": [
    "gasolina_sp_2018.shape"
   ]
  },
  {
   "cell_type": "markdown",
   "id": "first-course",
   "metadata": {},
   "source": [
    "#### **Estatísticas Descritivas**"
   ]
  },
  {
   "cell_type": "code",
   "execution_count": 17,
   "id": "distinct-scoop",
   "metadata": {},
   "outputs": [
    {
     "data": {
      "text/html": [
       "<div>\n",
       "<style scoped>\n",
       "    .dataframe tbody tr th:only-of-type {\n",
       "        vertical-align: middle;\n",
       "    }\n",
       "\n",
       "    .dataframe tbody tr th {\n",
       "        vertical-align: top;\n",
       "    }\n",
       "\n",
       "    .dataframe thead th {\n",
       "        text-align: right;\n",
       "    }\n",
       "</style>\n",
       "<table border=\"1\" class=\"dataframe\">\n",
       "  <thead>\n",
       "    <tr style=\"text-align: right;\">\n",
       "      <th></th>\n",
       "      <th>NÚMERO DE POSTOS PESQUISADOS</th>\n",
       "      <th>PREÇO MÉDIO REVENDA</th>\n",
       "      <th>DESVIO PADRÃO REVENDA</th>\n",
       "      <th>PREÇO MÍNIMO REVENDA</th>\n",
       "      <th>PREÇO MÁXIMO REVENDA</th>\n",
       "      <th>MARGEM MÉDIA REVENDA</th>\n",
       "      <th>COEF DE VARIAÇÃO REVENDA</th>\n",
       "      <th>PREÇO MÉDIO DISTRIBUIÇÃO</th>\n",
       "      <th>DESVIO PADRÃO DISTRIBUIÇÃO</th>\n",
       "      <th>PREÇO MÍNIMO DISTRIBUIÇÃO</th>\n",
       "      <th>PREÇO MÁXIMO DISTRIBUIÇÃO</th>\n",
       "      <th>COEF DE VARIAÇÃO DISTRIBUIÇÃO</th>\n",
       "      <th>MÊS</th>\n",
       "      <th>ANO</th>\n",
       "    </tr>\n",
       "  </thead>\n",
       "  <tbody>\n",
       "    <tr>\n",
       "      <th>count</th>\n",
       "      <td>52.000000</td>\n",
       "      <td>52.000000</td>\n",
       "      <td>52.000000</td>\n",
       "      <td>52.000000</td>\n",
       "      <td>52.000000</td>\n",
       "      <td>52.000000</td>\n",
       "      <td>52.000000</td>\n",
       "      <td>52.000000</td>\n",
       "      <td>52.000000</td>\n",
       "      <td>52.00000</td>\n",
       "      <td>52.000000</td>\n",
       "      <td>52.000000</td>\n",
       "      <td>52.000000</td>\n",
       "      <td>52.0</td>\n",
       "    </tr>\n",
       "    <tr>\n",
       "      <th>mean</th>\n",
       "      <td>1610.211538</td>\n",
       "      <td>4.202769</td>\n",
       "      <td>0.175500</td>\n",
       "      <td>3.671500</td>\n",
       "      <td>4.975750</td>\n",
       "      <td>0.442481</td>\n",
       "      <td>0.041750</td>\n",
       "      <td>3.760288</td>\n",
       "      <td>0.109654</td>\n",
       "      <td>3.31295</td>\n",
       "      <td>4.139454</td>\n",
       "      <td>0.029096</td>\n",
       "      <td>6.615385</td>\n",
       "      <td>2018.0</td>\n",
       "    </tr>\n",
       "    <tr>\n",
       "      <th>std</th>\n",
       "      <td>213.627432</td>\n",
       "      <td>0.180672</td>\n",
       "      <td>0.017955</td>\n",
       "      <td>0.163808</td>\n",
       "      <td>0.211198</td>\n",
       "      <td>0.063271</td>\n",
       "      <td>0.003965</td>\n",
       "      <td>0.163664</td>\n",
       "      <td>0.010712</td>\n",
       "      <td>0.26684</td>\n",
       "      <td>0.195897</td>\n",
       "      <td>0.002460</td>\n",
       "      <td>3.470627</td>\n",
       "      <td>0.0</td>\n",
       "    </tr>\n",
       "    <tr>\n",
       "      <th>min</th>\n",
       "      <td>102.000000</td>\n",
       "      <td>3.970000</td>\n",
       "      <td>0.150000</td>\n",
       "      <td>3.369000</td>\n",
       "      <td>4.499000</td>\n",
       "      <td>0.366000</td>\n",
       "      <td>0.034000</td>\n",
       "      <td>3.563000</td>\n",
       "      <td>0.087000</td>\n",
       "      <td>2.92400</td>\n",
       "      <td>3.887500</td>\n",
       "      <td>0.023000</td>\n",
       "      <td>1.000000</td>\n",
       "      <td>2018.0</td>\n",
       "    </tr>\n",
       "    <tr>\n",
       "      <th>25%</th>\n",
       "      <td>1639.000000</td>\n",
       "      <td>4.008000</td>\n",
       "      <td>0.159750</td>\n",
       "      <td>3.499000</td>\n",
       "      <td>4.899000</td>\n",
       "      <td>0.404500</td>\n",
       "      <td>0.039000</td>\n",
       "      <td>3.620250</td>\n",
       "      <td>0.102000</td>\n",
       "      <td>2.99000</td>\n",
       "      <td>3.965775</td>\n",
       "      <td>0.028000</td>\n",
       "      <td>4.000000</td>\n",
       "      <td>2018.0</td>\n",
       "    </tr>\n",
       "    <tr>\n",
       "      <th>50%</th>\n",
       "      <td>1642.000000</td>\n",
       "      <td>4.202000</td>\n",
       "      <td>0.173000</td>\n",
       "      <td>3.679000</td>\n",
       "      <td>4.999000</td>\n",
       "      <td>0.421500</td>\n",
       "      <td>0.040000</td>\n",
       "      <td>3.756500</td>\n",
       "      <td>0.108000</td>\n",
       "      <td>3.35000</td>\n",
       "      <td>4.095500</td>\n",
       "      <td>0.029000</td>\n",
       "      <td>7.000000</td>\n",
       "      <td>2018.0</td>\n",
       "    </tr>\n",
       "    <tr>\n",
       "      <th>75%</th>\n",
       "      <td>1644.000000</td>\n",
       "      <td>4.336250</td>\n",
       "      <td>0.189000</td>\n",
       "      <td>3.784000</td>\n",
       "      <td>5.099000</td>\n",
       "      <td>0.470250</td>\n",
       "      <td>0.044000</td>\n",
       "      <td>3.862250</td>\n",
       "      <td>0.116250</td>\n",
       "      <td>3.53250</td>\n",
       "      <td>4.259000</td>\n",
       "      <td>0.030000</td>\n",
       "      <td>9.250000</td>\n",
       "      <td>2018.0</td>\n",
       "    </tr>\n",
       "    <tr>\n",
       "      <th>max</th>\n",
       "      <td>1649.000000</td>\n",
       "      <td>4.512000</td>\n",
       "      <td>0.216000</td>\n",
       "      <td>3.969000</td>\n",
       "      <td>5.299000</td>\n",
       "      <td>0.640000</td>\n",
       "      <td>0.051000</td>\n",
       "      <td>4.085000</td>\n",
       "      <td>0.144000</td>\n",
       "      <td>3.76000</td>\n",
       "      <td>4.551000</td>\n",
       "      <td>0.037000</td>\n",
       "      <td>12.000000</td>\n",
       "      <td>2018.0</td>\n",
       "    </tr>\n",
       "  </tbody>\n",
       "</table>\n",
       "</div>"
      ],
      "text/plain": [
       "       NÚMERO DE POSTOS PESQUISADOS  PREÇO MÉDIO REVENDA  \\\n",
       "count                     52.000000            52.000000   \n",
       "mean                    1610.211538             4.202769   \n",
       "std                      213.627432             0.180672   \n",
       "min                      102.000000             3.970000   \n",
       "25%                     1639.000000             4.008000   \n",
       "50%                     1642.000000             4.202000   \n",
       "75%                     1644.000000             4.336250   \n",
       "max                     1649.000000             4.512000   \n",
       "\n",
       "       DESVIO PADRÃO REVENDA  PREÇO MÍNIMO REVENDA  PREÇO MÁXIMO REVENDA  \\\n",
       "count              52.000000             52.000000             52.000000   \n",
       "mean                0.175500              3.671500              4.975750   \n",
       "std                 0.017955              0.163808              0.211198   \n",
       "min                 0.150000              3.369000              4.499000   \n",
       "25%                 0.159750              3.499000              4.899000   \n",
       "50%                 0.173000              3.679000              4.999000   \n",
       "75%                 0.189000              3.784000              5.099000   \n",
       "max                 0.216000              3.969000              5.299000   \n",
       "\n",
       "       MARGEM MÉDIA REVENDA  COEF DE VARIAÇÃO REVENDA  \\\n",
       "count             52.000000                 52.000000   \n",
       "mean               0.442481                  0.041750   \n",
       "std                0.063271                  0.003965   \n",
       "min                0.366000                  0.034000   \n",
       "25%                0.404500                  0.039000   \n",
       "50%                0.421500                  0.040000   \n",
       "75%                0.470250                  0.044000   \n",
       "max                0.640000                  0.051000   \n",
       "\n",
       "       PREÇO MÉDIO DISTRIBUIÇÃO  DESVIO PADRÃO DISTRIBUIÇÃO  \\\n",
       "count                 52.000000                   52.000000   \n",
       "mean                   3.760288                    0.109654   \n",
       "std                    0.163664                    0.010712   \n",
       "min                    3.563000                    0.087000   \n",
       "25%                    3.620250                    0.102000   \n",
       "50%                    3.756500                    0.108000   \n",
       "75%                    3.862250                    0.116250   \n",
       "max                    4.085000                    0.144000   \n",
       "\n",
       "       PREÇO MÍNIMO DISTRIBUIÇÃO  PREÇO MÁXIMO DISTRIBUIÇÃO  \\\n",
       "count                   52.00000                  52.000000   \n",
       "mean                     3.31295                   4.139454   \n",
       "std                      0.26684                   0.195897   \n",
       "min                      2.92400                   3.887500   \n",
       "25%                      2.99000                   3.965775   \n",
       "50%                      3.35000                   4.095500   \n",
       "75%                      3.53250                   4.259000   \n",
       "max                      3.76000                   4.551000   \n",
       "\n",
       "       COEF DE VARIAÇÃO DISTRIBUIÇÃO        MÊS     ANO  \n",
       "count                      52.000000  52.000000    52.0  \n",
       "mean                        0.029096   6.615385  2018.0  \n",
       "std                         0.002460   3.470627     0.0  \n",
       "min                         0.023000   1.000000  2018.0  \n",
       "25%                         0.028000   4.000000  2018.0  \n",
       "50%                         0.029000   7.000000  2018.0  \n",
       "75%                         0.030000   9.250000  2018.0  \n",
       "max                         0.037000  12.000000  2018.0  "
      ]
     },
     "execution_count": 17,
     "metadata": {},
     "output_type": "execute_result"
    }
   ],
   "source": [
    "# computa estatísticas descritivas para toda a base\n",
    "gasolina_sp_2018.describe()"
   ]
  },
  {
   "cell_type": "code",
   "execution_count": 24,
   "id": "national-navigator",
   "metadata": {},
   "outputs": [
    {
     "data": {
      "text/plain": [
       "count    52.000000\n",
       "mean      4.202769\n",
       "std       0.180672\n",
       "min       3.970000\n",
       "25%       4.008000\n",
       "50%       4.202000\n",
       "75%       4.336250\n",
       "max       4.512000\n",
       "Name: PREÇO MÉDIO REVENDA, dtype: float64"
      ]
     },
     "execution_count": 24,
     "metadata": {},
     "output_type": "execute_result"
    }
   ],
   "source": [
    "gasolina_sp_2018['PREÇO MÉDIO REVENDA'].describe()"
   ]
  },
  {
   "cell_type": "code",
   "execution_count": 27,
   "id": "little-strap",
   "metadata": {},
   "outputs": [
    {
     "data": {
      "text/html": [
       "<div>\n",
       "<style scoped>\n",
       "    .dataframe tbody tr th:only-of-type {\n",
       "        vertical-align: middle;\n",
       "    }\n",
       "\n",
       "    .dataframe tbody tr th {\n",
       "        vertical-align: top;\n",
       "    }\n",
       "\n",
       "    .dataframe thead th {\n",
       "        text-align: right;\n",
       "    }\n",
       "</style>\n",
       "<table border=\"1\" class=\"dataframe\">\n",
       "  <thead>\n",
       "    <tr style=\"text-align: right;\">\n",
       "      <th></th>\n",
       "      <th>PREÇO MÉDIO REVENDA</th>\n",
       "    </tr>\n",
       "  </thead>\n",
       "  <tbody>\n",
       "    <tr>\n",
       "      <th>count</th>\n",
       "      <td>52.000000</td>\n",
       "    </tr>\n",
       "    <tr>\n",
       "      <th>mean</th>\n",
       "      <td>4.202769</td>\n",
       "    </tr>\n",
       "    <tr>\n",
       "      <th>std</th>\n",
       "      <td>0.180672</td>\n",
       "    </tr>\n",
       "    <tr>\n",
       "      <th>min</th>\n",
       "      <td>3.970000</td>\n",
       "    </tr>\n",
       "    <tr>\n",
       "      <th>25%</th>\n",
       "      <td>4.008000</td>\n",
       "    </tr>\n",
       "    <tr>\n",
       "      <th>50%</th>\n",
       "      <td>4.202000</td>\n",
       "    </tr>\n",
       "    <tr>\n",
       "      <th>75%</th>\n",
       "      <td>4.336250</td>\n",
       "    </tr>\n",
       "    <tr>\n",
       "      <th>max</th>\n",
       "      <td>4.512000</td>\n",
       "    </tr>\n",
       "  </tbody>\n",
       "</table>\n",
       "</div>"
      ],
      "text/plain": [
       "       PREÇO MÉDIO REVENDA\n",
       "count            52.000000\n",
       "mean              4.202769\n",
       "std               0.180672\n",
       "min               3.970000\n",
       "25%               4.008000\n",
       "50%               4.202000\n",
       "75%               4.336250\n",
       "max               4.512000"
      ]
     },
     "execution_count": 27,
     "metadata": {},
     "output_type": "execute_result"
    }
   ],
   "source": [
    "stats = gasolina_sp_2018['PREÇO MÉDIO REVENDA'].describe().to_frame()\n",
    "stats"
   ]
  },
  {
   "cell_type": "markdown",
   "id": "sitting-relative",
   "metadata": {},
   "source": [
    "#### **Tendência Central dos Preços**"
   ]
  },
  {
   "cell_type": "code",
   "execution_count": 52,
   "id": "distinguished-crash",
   "metadata": {},
   "outputs": [
    {
     "name": "stdout",
     "output_type": "stream",
     "text": [
      "O preço médio da Gasolina Comum no Estado de São Paulo em 2018 foi de 4.20 +- 0.18\n",
      "A mediana dos preços da Gasolina Comum no Estado de São Paulo em 2018 foi de 4.20\n"
     ]
    }
   ],
   "source": [
    "print(f\"O preço médio da Gasolina Comum no Estado de São Paulo em 2018 foi de {stats.loc['mean', 'PREÇO MÉDIO REVENDA']:.2f} +- {stats.loc['std', 'PREÇO MÉDIO REVENDA']:.2f}\")\n",
    "print(f\"A mediana dos preços da Gasolina Comum no Estado de São Paulo em 2018 foi de {stats.loc['50%', 'PREÇO MÉDIO REVENDA']:.2f}\")"
   ]
  },
  {
   "cell_type": "code",
   "execution_count": 46,
   "id": "paperback-digit",
   "metadata": {},
   "outputs": [
    {
     "data": {
      "text/plain": [
       "Text(0.5, 1.0, 'Gasolina Comum no Estado de SP em 2018')"
      ]
     },
     "execution_count": 46,
     "metadata": {},
     "output_type": "execute_result"
    },
    {
     "data": {
      "image/png": "[encoded data removed]",
      "text/plain": [
       "<Figure size 432x432 with 1 Axes>"
      ]
     },
     "metadata": {
      "needs_background": "light"
     },
     "output_type": "display_data"
    }
   ],
   "source": [
    "plt.figure(figsize=(6, 6))\n",
    "\n",
    "sns.barplot(data=gasolina_sp_2018, y='PREÇO MÉDIO REVENDA', ci='sd')\n",
    "plt.ylabel('Preço Médio (R$)')\n",
    "\n",
    "# plt.yticks([0, 0.5, 1, 1.5, 2, 2.5, 3, 3.5, 4, 4.5, 5])\n",
    "plt.yticks(np.arange(0, 5.01, 0.25))\n",
    "# plt.yticks(np.arange(0, gasolina_sp_2018['PREÇO MÉDIO REVENDA'].max() + 0.01, 0.25))\n",
    "plt.title('Gasolina Comum no Estado de SP em 2018', fontsize=18)"
   ]
  },
  {
   "cell_type": "code",
   "execution_count": 50,
   "id": "spiritual-encyclopedia",
   "metadata": {},
   "outputs": [
    {
     "data": {
      "image/png": "[encoded data removed]",
      "text/plain": [
       "<Figure size 432x432 with 1 Axes>"
      ]
     },
     "metadata": {
      "needs_background": "light"
     },
     "output_type": "display_data"
    }
   ],
   "source": [
    "plt.figure(figsize=(6, 6))\n",
    "\n",
    "ax = sns.barplot(data=gasolina_sp_2018, y='PREÇO MÉDIO REVENDA', ci='sd')\n",
    "plt.ylabel('Preço Médio (R$)')\n",
    "plt.yticks(np.arange(0, 5.01, 0.25))\n",
    "plt.title('Gasolina Comum no Estado de SP em 2018', fontsize=18)\n",
    "\n",
    "for bar in ax.patches:\n",
    "    preco_medio = bar.get_height()\n",
    "    x = bar.get_x() + bar.get_width()\n",
    "    y = bar.get_height()\n",
    "    \n",
    "    ax.annotate(f'R$ {preco_medio:.2f}',\n",
    "               xy=(x, y),\n",
    "               xytext=(0, 3),\n",
    "               textcoords=\"offset points\",\n",
    "                ha=\"center\", va=\"bottom\")"
   ]
  },
  {
   "cell_type": "markdown",
   "id": "affiliated-hammer",
   "metadata": {},
   "source": [
    "### **Variabilidade**"
   ]
  },
  {
   "cell_type": "markdown",
   "id": "secret-cancellation",
   "metadata": {},
   "source": [
    "#### Histograma com número de bins padrão:"
   ]
  },
  {
   "cell_type": "code",
   "execution_count": 56,
   "id": "fifteen-princeton",
   "metadata": {},
   "outputs": [
    {
     "data": {
      "text/plain": [
       "Text(0.5, 1.0, 'Histograma dos Preços da Gasolina do Estado de SP em 2018')"
      ]
     },
     "execution_count": 56,
     "metadata": {},
     "output_type": "execute_result"
    },
    {
     "data": {
      "image/png": "[encoded data removed]",
      "text/plain": [
       "<Figure size 432x288 with 1 Axes>"
      ]
     },
     "metadata": {
      "needs_background": "light"
     },
     "output_type": "display_data"
    }
   ],
   "source": [
    "sns.histplot(data=gasolina_sp_2018, x='PREÇO MÉDIO REVENDA')\n",
    "plt.xlabel('Preço Médio (R$)')\n",
    "plt.ylabel('Contagem')\n",
    "plt.title('Histograma dos Preços da Gasolina do Estado de SP em 2018')"
   ]
  },
  {
   "cell_type": "markdown",
   "id": "fifth-profile",
   "metadata": {},
   "source": [
    "#### Alterando o **número de bins** do Histograma."
   ]
  },
  {
   "cell_type": "code",
   "execution_count": 59,
   "id": "western-priest",
   "metadata": {},
   "outputs": [
    {
     "data": {
      "text/plain": [
       "Text(0.5, 1.0, 'Histograma dos Preços da Gasolina do Estado de SP em 2018')"
      ]
     },
     "execution_count": 59,
     "metadata": {},
     "output_type": "execute_result"
    },
    {
     "data": {
      "image/png": "[encoded data removed]",
      "text/plain": [
       "<Figure size 432x288 with 1 Axes>"
      ]
     },
     "metadata": {
      "needs_background": "light"
     },
     "output_type": "display_data"
    }
   ],
   "source": [
    "sns.histplot(data=gasolina_sp_2018, x='PREÇO MÉDIO REVENDA', bins=20)\n",
    "plt.xlabel('Preço Médio (R$)')\n",
    "plt.ylabel('Contagem')\n",
    "plt.title('Histograma dos Preços da Gasolina do Estado de SP em 2018')"
   ]
  },
  {
   "cell_type": "code",
   "execution_count": 60,
   "id": "positive-package",
   "metadata": {},
   "outputs": [
    {
     "data": {
      "text/plain": [
       "Text(0.5, 1.0, 'Histograma dos Preços da Gasolina do Estado de SP em 2018')"
      ]
     },
     "execution_count": 60,
     "metadata": {},
     "output_type": "execute_result"
    },
    {
     "data": {
      "image/png": "[encoded data removed]",
      "text/plain": [
       "<Figure size 432x288 with 1 Axes>"
      ]
     },
     "metadata": {
      "needs_background": "light"
     },
     "output_type": "display_data"
    }
   ],
   "source": [
    "sns.histplot(data=gasolina_sp_2018, x='PREÇO MÉDIO REVENDA', bins=20, kde=True)\n",
    "plt.xlabel('Preço Médio (R$)')\n",
    "plt.ylabel('Contagem')\n",
    "plt.title('Histograma dos Preços da Gasolina do Estado de SP em 2018')"
   ]
  },
  {
   "cell_type": "markdown",
   "id": "mechanical-repeat",
   "metadata": {},
   "source": [
    "#### Checando a variabilidade usando **BoxPlots**"
   ]
  },
  {
   "cell_type": "code",
   "execution_count": 70,
   "id": "broadband-religious",
   "metadata": {},
   "outputs": [
    {
     "data": {
      "text/plain": [
       "Text(0.5, 1.0, 'Boxplot da Gasolina do Estado de SP em 2018')"
      ]
     },
     "execution_count": 70,
     "metadata": {},
     "output_type": "execute_result"
    },
    {
     "data": {
      "image/png": "[encoded data removed]",
      "text/plain": [
       "<Figure size 720x432 with 1 Axes>"
      ]
     },
     "metadata": {
      "needs_background": "light"
     },
     "output_type": "display_data"
    }
   ],
   "source": [
    "plt.figure(figsize=(10, 6))\n",
    "sns.boxplot(data=gasolina_sp_2018, x='PREÇO MÉDIO REVENDA')\n",
    "plt.xticks(np.arange(3.5, 4.7, 0.05), rotation=45)\n",
    "plt.title('Boxplot da Gasolina do Estado de SP em 2018')"
   ]
  },
  {
   "cell_type": "markdown",
   "id": "constitutional-volunteer",
   "metadata": {},
   "source": [
    "#### Checando a variabilidade usando **Violin Plot**"
   ]
  },
  {
   "cell_type": "code",
   "execution_count": 73,
   "id": "toxic-works",
   "metadata": {},
   "outputs": [
    {
     "data": {
      "text/plain": [
       "Text(0.5, 1.0, 'Boxplot da Gasolina do Estado de SP em 2018')"
      ]
     },
     "execution_count": 73,
     "metadata": {},
     "output_type": "execute_result"
    },
    {
     "data": {
      "image/png": "[encoded data removed]",
      "text/plain": [
       "<Figure size 720x432 with 1 Axes>"
      ]
     },
     "metadata": {
      "needs_background": "light"
     },
     "output_type": "display_data"
    }
   ],
   "source": [
    "plt.figure(figsize=(10, 6))\n",
    "sns.violinplot(data=gasolina_sp_2018, x='PREÇO MÉDIO REVENDA')\n",
    "plt.xticks(np.arange(3.5, 4.7, 0.05), rotation=45)\n",
    "plt.title('Boxplot da Gasolina do Estado de SP em 2018')"
   ]
  },
  {
   "cell_type": "markdown",
   "id": "concerned-maine",
   "metadata": {},
   "source": [
    "### 2.2 Como os preços da Gasolina Comum e do Etanol em São Paulo variaram em 2018?"
   ]
  },
  {
   "cell_type": "code",
   "execution_count": null,
   "id": "unavailable-exchange",
   "metadata": {},
   "outputs": [],
   "source": []
  },
  {
   "cell_type": "markdown",
   "id": "ultimate-child",
   "metadata": {},
   "source": [
    "#### Computando as estatísticas descritivas"
   ]
  },
  {
   "cell_type": "code",
   "execution_count": null,
   "id": "cordless-print",
   "metadata": {},
   "outputs": [],
   "source": []
  },
  {
   "cell_type": "markdown",
   "id": "round-vacation",
   "metadata": {},
   "source": [
    "#### Gráfico de Barras"
   ]
  },
  {
   "cell_type": "code",
   "execution_count": null,
   "id": "happy-occasions",
   "metadata": {},
   "outputs": [],
   "source": []
  },
  {
   "cell_type": "markdown",
   "id": "anticipated-morris",
   "metadata": {},
   "source": [
    "#### Histogramas"
   ]
  },
  {
   "cell_type": "code",
   "execution_count": null,
   "id": "numerous-calvin",
   "metadata": {},
   "outputs": [],
   "source": []
  },
  {
   "cell_type": "markdown",
   "id": "secret-angle",
   "metadata": {},
   "source": [
    "#### BoxPlot"
   ]
  },
  {
   "cell_type": "code",
   "execution_count": null,
   "id": "demanding-directory",
   "metadata": {},
   "outputs": [],
   "source": []
  },
  {
   "cell_type": "markdown",
   "id": "owned-double",
   "metadata": {},
   "source": [
    "#### Violin Plot"
   ]
  },
  {
   "cell_type": "code",
   "execution_count": null,
   "id": "latin-walnut",
   "metadata": {},
   "outputs": [],
   "source": []
  },
  {
   "cell_type": "markdown",
   "id": "sought-firmware",
   "metadata": {},
   "source": [
    "### 2.3 Como os preços da Gasolina Comum e Etanol variaram no estado de SP ao longo dos anos?"
   ]
  },
  {
   "cell_type": "code",
   "execution_count": null,
   "id": "enormous-basement",
   "metadata": {},
   "outputs": [],
   "source": []
  },
  {
   "cell_type": "markdown",
   "id": "english-thousand",
   "metadata": {},
   "source": [
    "#### Lineplot"
   ]
  },
  {
   "cell_type": "code",
   "execution_count": null,
   "id": "sensitive-papua",
   "metadata": {},
   "outputs": [],
   "source": []
  },
  {
   "cell_type": "markdown",
   "id": "absolute-wilson",
   "metadata": {},
   "source": [
    "#### Boxplots"
   ]
  },
  {
   "cell_type": "code",
   "execution_count": null,
   "id": "metric-forty",
   "metadata": {},
   "outputs": [],
   "source": []
  },
  {
   "cell_type": "markdown",
   "id": "bearing-disorder",
   "metadata": {},
   "source": [
    "#### Violin Plot"
   ]
  },
  {
   "cell_type": "code",
   "execution_count": null,
   "id": "phantom-bonus",
   "metadata": {},
   "outputs": [],
   "source": []
  },
  {
   "cell_type": "markdown",
   "id": "ordered-titanium",
   "metadata": {},
   "source": [
    "### 2.4 Há correlação entre os os preços da Gasolina Comum e do Etanol do estado de São Paulo de 2018?"
   ]
  },
  {
   "cell_type": "code",
   "execution_count": null,
   "id": "sized-commitment",
   "metadata": {},
   "outputs": [],
   "source": []
  },
  {
   "cell_type": "markdown",
   "id": "reduced-ghana",
   "metadata": {},
   "source": [
    "### 2.5 Como os preços da Gasolina Comum e Etanol variaram no estado de SP ao longo dos anos e meses?"
   ]
  },
  {
   "cell_type": "code",
   "execution_count": null,
   "id": "revolutionary-tribe",
   "metadata": {},
   "outputs": [],
   "source": []
  },
  {
   "cell_type": "markdown",
   "id": "incoming-floating",
   "metadata": {},
   "source": [
    "#### Correlação entre os Preços da Gasolina e Etanol no Estado de SP"
   ]
  },
  {
   "cell_type": "code",
   "execution_count": null,
   "id": "thermal-slide",
   "metadata": {},
   "outputs": [],
   "source": []
  },
  {
   "cell_type": "markdown",
   "id": "decreased-yeast",
   "metadata": {},
   "source": [
    "### 2.6 Preços dos Combustíveis por Região ao longo dos anos e meses?"
   ]
  },
  {
   "cell_type": "markdown",
   "id": "charged-jason",
   "metadata": {},
   "source": [
    "#### UMA ALTERNATIVA"
   ]
  },
  {
   "cell_type": "code",
   "execution_count": null,
   "id": "running-values",
   "metadata": {},
   "outputs": [],
   "source": []
  },
  {
   "cell_type": "markdown",
   "id": "incident-update",
   "metadata": {},
   "source": [
    "No geral, a região **Norte** é a que apresenta os maiores preços de combustíveis do país."
   ]
  },
  {
   "cell_type": "markdown",
   "id": "dying-toolbox",
   "metadata": {},
   "source": [
    "#### OUTRA ALTERNATIVA"
   ]
  },
  {
   "cell_type": "code",
   "execution_count": null,
   "id": "sapphire-paraguay",
   "metadata": {},
   "outputs": [],
   "source": []
  },
  {
   "cell_type": "markdown",
   "id": "realistic-tattoo",
   "metadata": {},
   "source": [
    "Como o preço do GLP é muito discrepante do preço dos outros combustíveis, nossa análise fica totalmente prejudicada. <br/>\n",
    "Podemos ignorar o GLP neste momento e comparar os preços entre os outros combustíveis."
   ]
  },
  {
   "cell_type": "code",
   "execution_count": null,
   "id": "satisfactory-discretion",
   "metadata": {},
   "outputs": [],
   "source": []
  },
  {
   "cell_type": "markdown",
   "id": "considered-partition",
   "metadata": {},
   "source": [
    "### 2.7 Comportamento dos Preços dos Combustíveis dos Estados do Norte?"
   ]
  },
  {
   "cell_type": "code",
   "execution_count": null,
   "id": "superb-graduate",
   "metadata": {},
   "outputs": [],
   "source": []
  },
  {
   "cell_type": "code",
   "execution_count": null,
   "id": "sharp-border",
   "metadata": {},
   "outputs": [],
   "source": []
  },
  {
   "cell_type": "code",
   "execution_count": null,
   "id": "medical-table",
   "metadata": {},
   "outputs": [],
   "source": []
  },
  {
   "cell_type": "markdown",
   "id": "tamil-exploration",
   "metadata": {},
   "source": [
    "Na média, o estado do **ACRE** apresentou **os preços mais caros** para a _Gasolina Comum_ e _Etanol_ considerando os anos de 2004 a 2018"
   ]
  },
  {
   "cell_type": "markdown",
   "id": "suspended-russia",
   "metadata": {},
   "source": [
    "##### **ANALISANDO OS PREÇOS ANO A ANO**"
   ]
  },
  {
   "cell_type": "code",
   "execution_count": null,
   "id": "essential-processor",
   "metadata": {},
   "outputs": [],
   "source": []
  },
  {
   "cell_type": "markdown",
   "id": "architectural-startup",
   "metadata": {},
   "source": [
    "### 2.8 Há correlação entre os Preços de Distribuição e o Preço de Revenda dos combustíveis?"
   ]
  },
  {
   "cell_type": "code",
   "execution_count": null,
   "id": "typical-therapist",
   "metadata": {},
   "outputs": [],
   "source": []
  },
  {
   "cell_type": "code",
   "execution_count": null,
   "id": "micro-tampa",
   "metadata": {},
   "outputs": [],
   "source": []
  }
 ],
 "metadata": {
  "kernelspec": {
   "display_name": "Python 3",
   "language": "python",
   "name": "python3"
  },
  "language_info": {
   "codemirror_mode": {
    "name": "ipython",
    "version": 3
   },
   "file_extension": ".py",
   "mimetype": "text/x-python",
   "name": "python",
   "nbconvert_exporter": "python",
   "pygments_lexer": "ipython3",
   "version": "3.8.5"
  }
 },
 "nbformat": 4,
 "nbformat_minor": 5
}
