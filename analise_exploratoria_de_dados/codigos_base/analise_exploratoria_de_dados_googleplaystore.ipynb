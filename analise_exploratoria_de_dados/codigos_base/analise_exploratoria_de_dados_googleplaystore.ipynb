{
 "cells": [
  {
   "cell_type": "markdown",
   "id": "leading-pipeline",
   "metadata": {},
   "source": [
    "**INTL6: Inteligência Artificial (2021.1)** <br/>\n",
    "IFSP Campinas\n",
    "\n",
    "Prof. Dr. Samuel Botter Martins <br/><br/>\n",
    "\n",
    "<a rel=\"license\" href=\"http://creativecommons.org/licenses/by-nc-sa/4.0/\"><img alt=\"Creative Commons License\" style=\"border-width:0\" src=\"https://i.creativecommons.org/l/by-nc-sa/4.0/88x31.png\" /></a><br />This work is licensed under a <a rel=\"license\" href=\"http://creativecommons.org/licenses/by-nc-sa/4.0/\">Creative Commons Attribution-NonCommercial-ShareAlike 4.0 International License</a>."
   ]
  },
  {
   "cell_type": "code",
   "execution_count": 1,
   "id": "ruled-briefs",
   "metadata": {},
   "outputs": [],
   "source": [
    "# pacotes usados neste notebook\n",
    "import pandas as pd\n",
    "import seaborn as sns\n",
    "import matplotlib.pyplot as plt\n",
    "import numpy as np\n",
    "\n",
    "# estilos padrão para os plots/visualizações\n",
    "sns.set_theme(style=\"whitegrid\")\n",
    "plt.rcParams['figure.figsize'] = (10, 6)\n",
    "plt.rcParams['axes.labelsize'] = 14\n",
    "plt.rcParams['xtick.labelsize'] = 14\n",
    "plt.rcParams['xtick.labelsize'] = 14\n",
    "plt.rcParams['ytick.labelsize'] = 14"
   ]
  },
  {
   "cell_type": "markdown",
   "id": "accepted-pierre",
   "metadata": {},
   "source": [
    "<h1>Especificação</h1><hr/>"
   ]
  },
  {
   "cell_type": "markdown",
   "id": "persistent-kinase",
   "metadata": {},
   "source": [
    "Neste notebook, realizaremos uma **Análise Exploratória de Dados** em um conjunto de dados sobre aplicativos da Google Play Store. <br/>\n",
    "Nosso objetivo é responder algumas perguntas e hipóteses sobre o dataset. Para isso, analisaremos as variáveis do dataset em diferentes cenários, utilizando um ferramental que envolve a manipulação de dados, estatísticas descritivas e visualizações. <br/>\n",
    "Focaremos mais nas estratégias de como responder às perguntas do que necessariamente no código para chegar nisso. Deixaremos a cargo de vocês o entendimento do ferramental. <br/>\n",
    "\n",
    "Outro detalhe é que a apresentação das respostas neste notebook é _crua_. Você deveria escolher quais gráficos ou elementos são mais interessante para cada caso e, então, contar uma história: _Storytelling with Data_. \n",
    "\n",
    "Como suporte para visualização:\n",
    "- https://datavizcatalogue.com/\n",
    "- https://www.python-graph-gallery.com/"
   ]
  },
  {
   "cell_type": "markdown",
   "id": "intended-transsexual",
   "metadata": {},
   "source": [
    "<h2>1. Dataset</h2>\n",
    "<hr/>"
   ]
  },
  {
   "cell_type": "markdown",
   "id": "optional-psychology",
   "metadata": {},
   "source": [
    "**Dataset**: Google Play Store Apps: https://www.kaggle.com/lava18/google-play-store-apps <br/>\n",
    "\n",
    "Este dataset contém dados sobre aplicativos da Google Play Store (2010 até agosto de 2018). <br/>\n",
    "Cada *observação (registro/linha)* consiste de informações de um app, tais como categoria, avaliação, tamanho, entre outros. <br/>\n",
    "Cada app possui uma avaliação (coluna 'Rating') que consiste da nota média de um conjunto de avaliações (coluna 'Reviews')."
   ]
  },
  {
   "cell_type": "markdown",
   "id": "bored-physics",
   "metadata": {},
   "source": [
    "### 1.1 Importando o Dataset"
   ]
  },
  {
   "cell_type": "code",
   "execution_count": null,
   "id": "opened-punishment",
   "metadata": {},
   "outputs": [],
   "source": []
  },
  {
   "cell_type": "code",
   "execution_count": null,
   "id": "united-austin",
   "metadata": {},
   "outputs": [],
   "source": []
  },
  {
   "cell_type": "markdown",
   "id": "considerable-gasoline",
   "metadata": {},
   "source": [
    "### 1.2 Informações básicas"
   ]
  },
  {
   "cell_type": "code",
   "execution_count": null,
   "id": "removed-receipt",
   "metadata": {},
   "outputs": [],
   "source": []
  },
  {
   "cell_type": "markdown",
   "id": "casual-heather",
   "metadata": {},
   "source": [
    "<br/>\n",
    "\n",
    "O dataset pré-processado possui **8194** registros/observações/linhas e **13** atributos/variáveis/colunas.\n",
    "Nenhum atributo possui valores NaN."
   ]
  },
  {
   "cell_type": "markdown",
   "id": "driving-battle",
   "metadata": {},
   "source": [
    "<h2>2. Análise Exploratória de Dados</h2>\n",
    "<hr/>"
   ]
  },
  {
   "cell_type": "markdown",
   "id": "awful-party",
   "metadata": {},
   "source": [
    "**Estatísticas descritivas básicas**"
   ]
  },
  {
   "cell_type": "code",
   "execution_count": null,
   "id": "bearing-diary",
   "metadata": {},
   "outputs": [],
   "source": []
  },
  {
   "cell_type": "markdown",
   "id": "intensive-handy",
   "metadata": {},
   "source": [
    "## 2.1 Quais são os 10 Apps mais baixados?\n",
    "Para analisar quais são os apps mais baixados, ordenaremos os registros pela coluna \"Installs\". Em caso de empate, desempataremos pela _avaliação_ dos aplicativos, ou seja, realizaremos uma nova ordenação pela coluna \"Rating\"."
   ]
  },
  {
   "cell_type": "code",
   "execution_count": null,
   "id": "adolescent-concentrate",
   "metadata": {},
   "outputs": [],
   "source": []
  },
  {
   "cell_type": "code",
   "execution_count": null,
   "id": "convertible-attack",
   "metadata": {},
   "outputs": [],
   "source": []
  },
  {
   "cell_type": "markdown",
   "id": "refined-physiology",
   "metadata": {},
   "source": [
    "### 2.2 Qual a quantidade de aplicativos por categoria?"
   ]
  },
  {
   "cell_type": "code",
   "execution_count": null,
   "id": "honest-inventory",
   "metadata": {},
   "outputs": [],
   "source": []
  },
  {
   "cell_type": "code",
   "execution_count": null,
   "id": "recreational-russell",
   "metadata": {},
   "outputs": [],
   "source": []
  },
  {
   "cell_type": "code",
   "execution_count": null,
   "id": "regulation-transmission",
   "metadata": {},
   "outputs": [],
   "source": []
  },
  {
   "cell_type": "code",
   "execution_count": null,
   "id": "atlantic-navigator",
   "metadata": {},
   "outputs": [],
   "source": []
  },
  {
   "cell_type": "markdown",
   "id": "chicken-treat",
   "metadata": {},
   "source": [
    "A distribuição das barras não está **ordenada**. Para ordená-las, precisamos passar a lista de nomes da 'Category' na orde que queremos visualizar.\n",
    "\n",
    "Neste caso, vamos visualizar as barras em **ordem decrescente** da quantidade de apps por categoria."
   ]
  },
  {
   "cell_type": "code",
   "execution_count": null,
   "id": "developing-rogers",
   "metadata": {},
   "outputs": [],
   "source": []
  },
  {
   "cell_type": "code",
   "execution_count": null,
   "id": "lyric-director",
   "metadata": {},
   "outputs": [],
   "source": []
  },
  {
   "cell_type": "markdown",
   "id": "entire-cooperative",
   "metadata": {},
   "source": [
    "As cores ilustradas no plot _não têm qualquer significado_ (nenhuma variável foi codificada usando cor)."
   ]
  },
  {
   "cell_type": "markdown",
   "id": "contemporary-batch",
   "metadata": {},
   "source": [
    "### 2.3 Como se comportam as avaliações dos aplicativos? (tendências centrais, distribuição, etc)"
   ]
  },
  {
   "cell_type": "code",
   "execution_count": null,
   "id": "living-burning",
   "metadata": {},
   "outputs": [],
   "source": []
  },
  {
   "cell_type": "code",
   "execution_count": null,
   "id": "alone-species",
   "metadata": {},
   "outputs": [],
   "source": []
  },
  {
   "cell_type": "code",
   "execution_count": null,
   "id": "atmospheric-contest",
   "metadata": {},
   "outputs": [],
   "source": []
  },
  {
   "cell_type": "markdown",
   "id": "laden-collect",
   "metadata": {},
   "source": [
    "Note que a **média** e a **mediana** não estão muito longe e que o **desvio padrão** não é tão alto, mesmo com uma escala tão baixa com é a das avaliações (de 0 a 5). Tudo isso indica (em números) que a dispersão de notas/avaliações dos aplitativos não é tão grande."
   ]
  },
  {
   "cell_type": "markdown",
   "id": "confirmed-queue",
   "metadata": {},
   "source": [
    "#### HISTOGRAMA"
   ]
  },
  {
   "cell_type": "code",
   "execution_count": null,
   "id": "naughty-ocean",
   "metadata": {},
   "outputs": [],
   "source": []
  },
  {
   "cell_type": "markdown",
   "id": "supreme-capture",
   "metadata": {},
   "source": [
    "A **distribuição das avaliações** tem semelhanças com um _distribuição normal_ enviesada à esquerda (skewed left distribution). <br/>\n",
    "\n",
    "Apenas olhando este gráfico podemos notar que a grande maioria das avaliações estão no intervalo entre 4.0 e 5.0."
   ]
  },
  {
   "cell_type": "markdown",
   "id": "norman-stick",
   "metadata": {},
   "source": [
    "#### BOXPLOT"
   ]
  },
  {
   "cell_type": "code",
   "execution_count": null,
   "id": "thick-advisory",
   "metadata": {},
   "outputs": [],
   "source": []
  },
  {
   "cell_type": "code",
   "execution_count": null,
   "id": "liberal-pakistan",
   "metadata": {},
   "outputs": [],
   "source": []
  },
  {
   "cell_type": "markdown",
   "id": "weird-indianapolis",
   "metadata": {},
   "source": [
    "Pelo boxplot, é possível enxergar que 50% dos dados estão entre as avaliações 4.0 (Q1) e 4.5 (Q3), confirmando os resultados vindos do método `.describe()`.\n",
    "\n",
    "Por outro lado, ele interpretou que os aplicativos com avaliações _menores do que ~3.25_ são ***outliers*** da distribuição. <br/>\n",
    "Entretanto, é comum termos aplicativos mal avaliados. Assim sendo, a inclusão destes aplicativos na análise é relevante."
   ]
  },
  {
   "cell_type": "code",
   "execution_count": null,
   "id": "greatest-ultimate",
   "metadata": {},
   "outputs": [],
   "source": []
  },
  {
   "cell_type": "code",
   "execution_count": null,
   "id": "monetary-france",
   "metadata": {},
   "outputs": [],
   "source": []
  },
  {
   "cell_type": "markdown",
   "id": "coupled-program",
   "metadata": {},
   "source": [
    "<br/>\n",
    "\n",
    "O boxplot do seaborn identifica outliers usando o método de detecção via IQR. Para tanto, ele considera como **outlier** qualquer valor fora do intervalo **\\[Q1 - 1.5\\*IQR, Q3 + 1.5\\*IQR\\]**. Podemos controlar o fator **1.5** alterando o parâmetro `whis`. <br/>\n",
    "\n",
    "Se quisermos, por exemplo, que o boxplot não tenha _outliers_, basta passar um valor alto para o `whis`."
   ]
  },
  {
   "cell_type": "code",
   "execution_count": null,
   "id": "general-korean",
   "metadata": {},
   "outputs": [],
   "source": []
  },
  {
   "cell_type": "markdown",
   "id": "facial-rally",
   "metadata": {},
   "source": [
    "#### VIOLIN PLOT"
   ]
  },
  {
   "cell_type": "code",
   "execution_count": null,
   "id": "civilian-closer",
   "metadata": {},
   "outputs": [],
   "source": []
  },
  {
   "cell_type": "markdown",
   "id": "colored-astronomy",
   "metadata": {},
   "source": [
    "O _violin plot_ nos dá uma noção mais precisa de como os dados estão distribuídos, principalmente, entre os quartis."
   ]
  },
  {
   "cell_type": "markdown",
   "id": "varying-sample",
   "metadata": {},
   "source": [
    "### 2.4 Qual categoria é a melhor avaliada?"
   ]
  },
  {
   "cell_type": "code",
   "execution_count": null,
   "id": "authorized-kingston",
   "metadata": {},
   "outputs": [],
   "source": []
  },
  {
   "cell_type": "markdown",
   "id": "stock-thousand",
   "metadata": {},
   "source": [
    "Vamos considerar que as melhores categorias são aquelas que possuem as maiores **médias**."
   ]
  },
  {
   "cell_type": "code",
   "execution_count": null,
   "id": "ranging-skiing",
   "metadata": {},
   "outputs": [],
   "source": []
  },
  {
   "cell_type": "markdown",
   "id": "inclusive-humidity",
   "metadata": {},
   "source": [
    "Ao computar a _média das avaliações por categoria_ e ordenar pela **maior média**, constatamos que a categoria \"EVENTS\" possui a maior média. <br/>\n",
    "Mas, **não** é possível afirmar que essa é a _categoria melhor avaliada **apenas olhando para estes resultados**_, pois **o tamanho de cada amostra/grupo** (i.e., a quantidade de aplicativos por categoria) é diferente. Além disso, o **desvio padrão** também muda de categoria para categoria.<br/>\n",
    "\n",
    "P. ex., a categoria \"EVENTS\" possui 45 apps, enquanto \"BOOKS_AND_REFERENCE\" possui 169.\n",
    "\n",
    "Precisaríamos rodar algum **teste estatístico específico**, p. ex., para ter essa certeza. <br/>"
   ]
  },
  {
   "cell_type": "markdown",
   "id": "laughing-fiber",
   "metadata": {},
   "source": [
    "Outra meneira (mais simples), é garantir **a mesma quantidade de observações para cada grupo** (mesmo tamanho de amostra). <br/>\n",
    "Para isso, assumiríamos o tamanho do menor grupo, suponha N, e, para cada grupo restante, selecionaríamos _aleatoriamente_ N observações. <br/>\n",
    "Mas, e se, **ao acaso**, selecionamos apenas observações com uma dada característica que não, necessariamente, representasse bem nossa distribuição original? <br/>\n",
    "Uma alternativa, é realizar essa seleção múltiplas vezes. Mas este é um assunto para depois.\n",
    "\n",
    "Algumas discussões interessantes sobre o assunto: <br/>\n",
    "- https://www.researchgate.net/post/Is_there_any_way_to_compare_two_datasets_with_drastically_different_sample_sizes#:~:text=Most%20recent%20answer&text=One%20way%20to%20compare%20the,the%20single%204%20sample%20set.\n",
    "- https://stackoverflow.com/a/63099989\n",
    "- https://www.statisticshowto.com/unequal-sample-sizes/\n",
    "- https://www.graphpad.com/support/faq/how-to-compare-two-means-when-the-groups-have-different-standard-deviations/\n"
   ]
  },
  {
   "cell_type": "markdown",
   "id": "material-philosophy",
   "metadata": {},
   "source": [
    "Por ora, vamos simplificar e assumir que apenas analisar esses resultados é suficiente para decidirmos quais são as categorias melhores avaliadas."
   ]
  },
  {
   "cell_type": "code",
   "execution_count": null,
   "id": "beginning-edition",
   "metadata": {},
   "outputs": [],
   "source": []
  },
  {
   "cell_type": "code",
   "execution_count": null,
   "id": "difficult-mauritius",
   "metadata": {},
   "outputs": [],
   "source": []
  },
  {
   "cell_type": "code",
   "execution_count": null,
   "id": "competent-remains",
   "metadata": {},
   "outputs": [],
   "source": []
  },
  {
   "cell_type": "markdown",
   "id": "greatest-terminal",
   "metadata": {},
   "source": [
    "Ao analisar o boxplot, podemos nota que algumas categorias (p.ex., 'HEALTH_AND_FITNESS') possuem um **desvio padrão** um pouco maior do que as demais categorias. <br/>\n",
    "Vamos dar uma olhada na distribuição das notas de uma dessas categorias apenas para ter um sentimento do que está acontecendo."
   ]
  },
  {
   "cell_type": "code",
   "execution_count": null,
   "id": "gothic-painting",
   "metadata": {},
   "outputs": [],
   "source": []
  },
  {
   "cell_type": "markdown",
   "id": "living-formula",
   "metadata": {},
   "source": [
    "### 2.5 Como as avaliações se distribuem em cada categoria?\n",
    "_Variável Numérica_ x _Variável Categórica_."
   ]
  },
  {
   "cell_type": "code",
   "execution_count": null,
   "id": "declared-fireplace",
   "metadata": {},
   "outputs": [],
   "source": []
  },
  {
   "cell_type": "code",
   "execution_count": null,
   "id": "statutory-works",
   "metadata": {},
   "outputs": [],
   "source": []
  },
  {
   "cell_type": "code",
   "execution_count": null,
   "id": "documentary-blowing",
   "metadata": {},
   "outputs": [],
   "source": []
  },
  {
   "cell_type": "markdown",
   "id": "critical-butterfly",
   "metadata": {},
   "source": [
    "Para obter uma análise visual mais interessante, podemos ordenar os boxplots (ou violion plots) de acordo com algum critério. <br/>\n",
    "Por exemplo, podemos ordená-los pela _mediana_ de cada categoria a fim de analisar, p. ex., como estão distribuídos _a metade dos apps mais bem avaliados_ de cada categoria, além de **diminuir o impacto de outliers** na distribuição."
   ]
  },
  {
   "cell_type": "code",
   "execution_count": null,
   "id": "instant-blues",
   "metadata": {},
   "outputs": [],
   "source": []
  },
  {
   "cell_type": "markdown",
   "id": "legendary-consent",
   "metadata": {},
   "source": [
    "Ao analisar os boxplots, vemos que as categorias *BOOKS_AND_REFERENCE* e *HEALTH_AND_FITNESS* possuem uma quantidade considerável de apps muito bem avaliados --- ~50% de seus apps possuem avaliação >- 4.5. Entretanto, a **variância** (dispersão) de suas avaliações é **muito alta**, vários _outliers_. <br/>\n",
    "\n",
    "Vamos agora analisar o mesmo gráfico mas com as categorias organizadas pela **média** das avaliações."
   ]
  },
  {
   "cell_type": "code",
   "execution_count": null,
   "id": "identified-essex",
   "metadata": {},
   "outputs": [],
   "source": []
  },
  {
   "cell_type": "markdown",
   "id": "processed-morocco",
   "metadata": {},
   "source": [
    "Note que como a **média** é _sensível a outliers_, as categorias 'BOOKS_AND_REFERENCES_ e, principalmente, 'HEALTH_AND_FITNESS_ perderam posições. Categorias bem avaliadas e com poucos outliers (p. ex., 'EDUCATION' e 'EVENTS') apresentam médias maiores.\n",
    "\n",
    "Em resumo, esta maneira de organizar e visualizar este gráfico é interessante quando você quer considerar o impacto dos outliers da variável analisada. A visualização anterior, ordenando pelas medianas, visa o oposto."
   ]
  },
  {
   "cell_type": "markdown",
   "id": "listed-colon",
   "metadata": {},
   "source": [
    "### 2.6 Qual a média e distribuição de downloads/instalações dos apps em geral?"
   ]
  },
  {
   "cell_type": "markdown",
   "id": "prepared-louisiana",
   "metadata": {},
   "source": [
    "#### **CONSIDERANDO OS APPS MAIS POPULATES (_\"OUTLIERS\"_)**\n",
    "Vamos considerar que: **Mais popular** significa **mais instalado**"
   ]
  },
  {
   "cell_type": "code",
   "execution_count": null,
   "id": "joined-amateur",
   "metadata": {},
   "outputs": [],
   "source": []
  },
  {
   "cell_type": "code",
   "execution_count": null,
   "id": "worst-service",
   "metadata": {},
   "outputs": [],
   "source": []
  },
  {
   "cell_type": "markdown",
   "id": "entitled-static",
   "metadata": {},
   "source": [
    "Embora a escala da variável é muito alta ([1, 1B]), note como o **desvio padrão** é consideravelmente alto, o que indica que a _distribuição de instalações seja bem espalhada_. <br/>\n"
   ]
  },
  {
   "cell_type": "code",
   "execution_count": null,
   "id": "light-restriction",
   "metadata": {},
   "outputs": [],
   "source": []
  },
  {
   "cell_type": "markdown",
   "id": "knowing-tucson",
   "metadata": {},
   "source": [
    "De acordo com o boxplot acima, temos _uma pequena quantidade de apps_ que possuem uma **quantidade muito alta** de instalações ==> _outliers_. <br/>"
   ]
  },
  {
   "cell_type": "code",
   "execution_count": null,
   "id": "muslim-anatomy",
   "metadata": {},
   "outputs": [],
   "source": []
  },
  {
   "cell_type": "markdown",
   "id": "stuffed-encoding",
   "metadata": {},
   "source": [
    "De fato, os outliers são aplicativos extremamente populares e baixados."
   ]
  },
  {
   "cell_type": "markdown",
   "id": "impossible-royal",
   "metadata": {},
   "source": [
    "Podemos então fazer alguns tipos de análise frente a esta situação:\n",
    "- Analisamos como os outliers (apps mais instalados) se comportam\n",
    "- Analisamos os apps menos instalados (desconsideramos os outliers)"
   ]
  },
  {
   "cell_type": "markdown",
   "id": "fabulous-entity",
   "metadata": {},
   "source": [
    "Para descobrir os outliers, poderíamos analisar o _boxplot_ e simplesmente \"chutar\" qual é o intervalo de valores que os outliers se encontram. <br/>\n",
    "Porém, uma forma mais interessante é utilizar, inicialmente, o **método de detecçao de outliers pelo IQR**, que é justamente o método utilizado pelo boxplot acima."
   ]
  },
  {
   "cell_type": "code",
   "execution_count": null,
   "id": "specified-motivation",
   "metadata": {},
   "outputs": [],
   "source": []
  },
  {
   "cell_type": "markdown",
   "id": "selected-level",
   "metadata": {},
   "source": [
    "Como o número mínimo de instalações é 0, nosso **intervalo sem outliers real** é **[0, 2485000]**. <br/>\n",
    "Assim, os apps mais populares, com mais de 2485000 instalações, são considerados _outliers_."
   ]
  },
  {
   "cell_type": "code",
   "execution_count": null,
   "id": "enhanced-sterling",
   "metadata": {},
   "outputs": [],
   "source": []
  },
  {
   "cell_type": "markdown",
   "id": "fleet-professional",
   "metadata": {},
   "source": [
    "Temos um total de **1978** apps com mais de **2485000** instalações."
   ]
  },
  {
   "cell_type": "markdown",
   "id": "adequate-rebound",
   "metadata": {},
   "source": [
    "#### **Analisando os apps mais populares**"
   ]
  },
  {
   "cell_type": "code",
   "execution_count": null,
   "id": "bridal-grocery",
   "metadata": {},
   "outputs": [],
   "source": []
  },
  {
   "cell_type": "code",
   "execution_count": null,
   "id": "durable-involvement",
   "metadata": {},
   "outputs": [],
   "source": []
  },
  {
   "cell_type": "markdown",
   "id": "environmental-bookmark",
   "metadata": {},
   "source": [
    "O **desvio padrão** dos _apps mais populares_ continua bem alto, o que indica que a distribuição do número de instalações é bem espalhada. <br/>\n",
    "Além disso, note que a **média** e **mediana** do número de instalações são _muito diferentes_."
   ]
  },
  {
   "cell_type": "code",
   "execution_count": null,
   "id": "documented-curve",
   "metadata": {},
   "outputs": [],
   "source": []
  },
  {
   "cell_type": "markdown",
   "id": "bronze-preference",
   "metadata": {},
   "source": [
    "Note que, mesmo entre os _aplicativos mais populares_ -- aqueles que possuem **número de instalações maior que 2485000** -- há alguns que extrapolam o número de instalações (**_outliers_**). <br/>\n",
    "Pelo boxplot, é possível chutar que qualquer app com mais do que 50M (0.05e9) são de fato **_outliers_**. <br/>\n",
    "\n",
    "Vamos analisar o **histograma** dos apps mais populares."
   ]
  },
  {
   "cell_type": "code",
   "execution_count": null,
   "id": "supposed-residence",
   "metadata": {},
   "outputs": [],
   "source": []
  },
  {
   "cell_type": "markdown",
   "id": "animated-proposal",
   "metadata": {},
   "source": [
    "De fato, vemos que a maior parte dos apps mais populares possuem número de instalações inferior a 50M (0.05e9). <br/>\n",
    "\n",
    "Poderíamos estabelecer um **novo intervalo** de número de instalações para detectar _outliers_ (apps mais populares). O novo intervalo poderia ser **[0, 50000000]**, ao invés de [0, 2485000]. <br/>\n",
    "Consequentemente, diminuiríamos o número de apps inicialmente considerados outliers e aumentaríamos a quantidade dos apps \"normais\" (menos populares). <br/>\n",
    "\n",
    "O problema é que, provavelmente, estes _apps removidos dos outliers iniciais_ serão **outliers** na nova amostra de apps \"normais\". <br/>\n",
    "Analisemos o boxplot deste conjunto:"
   ]
  },
  {
   "cell_type": "code",
   "execution_count": null,
   "id": "demographic-procedure",
   "metadata": {},
   "outputs": [],
   "source": []
  },
  {
   "cell_type": "markdown",
   "id": "spiritual-imagination",
   "metadata": {},
   "source": [
    "Ainda temos 'outliers' dentro da amostra de **'novos outliers'** ==> alta variância."
   ]
  },
  {
   "cell_type": "code",
   "execution_count": null,
   "id": "funded-swift",
   "metadata": {},
   "outputs": [],
   "source": []
  },
  {
   "cell_type": "markdown",
   "id": "champion-politics",
   "metadata": {},
   "source": [
    "No _novo conjunto de apps menos populares_, temos agora **outliers**, que  são, justamente, os novos apps considerados. <br/>"
   ]
  },
  {
   "cell_type": "markdown",
   "id": "heard-cement",
   "metadata": {},
   "source": [
    "Dado este dilema, vamos adotar a seguinte estratégia: <br/>\n",
    "- Como o **conjunto de apps mais populares** (outliers iniciais) continuam com **alta variância** no _número de instalações_, independente se removermos seus apps com menos de 50M instalações, **manteremos** o conjunto de outliers originalmente obtidos como está. <br/>\n",
    "- Isso porque, neste momento, estamos interessados _apenas_ na análise de uma **única variável: _Installs_**. <br/>\n",
    "- Desta forma, mantemos um conjunto de apps de fato _sem outliers_ (apps menos populares) para uma análise menos \"ruidosa\"."
   ]
  },
  {
   "cell_type": "markdown",
   "id": "entire-raleigh",
   "metadata": {},
   "source": [
    "Uma estratégia mais interessante ao querer confrontar/analisar **o número de instalações** com outra variável é agrupar os apps, de acordo com suas quantidades de downloads, em uma **nova variável categórica**. <br/>\n",
    "Isso tende _a facilitar nossa análise_, p. ex., isolando grupos de apps com números exorbitantes de instalação. <br/>\n",
    "Veremos isso jajá!"
   ]
  },
  {
   "cell_type": "markdown",
   "id": "touched-incentive",
   "metadata": {},
   "source": [
    "#### **Analisando a quantidade de instalação dos apps menos populares (menos instalados)**"
   ]
  },
  {
   "cell_type": "code",
   "execution_count": null,
   "id": "immune-resource",
   "metadata": {},
   "outputs": [],
   "source": []
  },
  {
   "cell_type": "code",
   "execution_count": null,
   "id": "organized-agent",
   "metadata": {},
   "outputs": [],
   "source": []
  },
  {
   "cell_type": "code",
   "execution_count": null,
   "id": "complimentary-march",
   "metadata": {},
   "outputs": [],
   "source": []
  },
  {
   "cell_type": "code",
   "execution_count": null,
   "id": "elder-humanitarian",
   "metadata": {},
   "outputs": [],
   "source": []
  },
  {
   "cell_type": "markdown",
   "id": "broken-hanging",
   "metadata": {},
   "source": [
    "O **desvio padrão** das instalações ainda é consideravelmente alto, mas bem menor do que para os _apps mais instalados_. <br/>\n",
    "A diferença entre a **média** e a **mediana** das instalações é _menor_ do que para os _apps mais instalados_ também. <br/>\n",
    "\n",
    "Apenas analisando estas estatísticas descritivas, percebemos que os números de instalação destes apps são bem distribuídas, mas em um intervalo bem menor do que para _apps mais instalados_."
   ]
  },
  {
   "cell_type": "code",
   "execution_count": null,
   "id": "serial-trading",
   "metadata": {},
   "outputs": [],
   "source": []
  },
  {
   "cell_type": "markdown",
   "id": "pregnant-training",
   "metadata": {},
   "source": [
    "Dos apps menos populares:\n",
    "- **25% (Q1)** possuem apps com número de instalações **<= 5000** (veja a tabela de describe)\n",
    "- **50% (Q2 - mediana)** possuem apps com número de instalações **<= 50000** (veja a tabela de describe)\n",
    "- **75% (Q3)** possuem apps com número de instalações **<= 500000** (veja a tabela de describe)\n",
    "- **25%** possuem apps com número de instalações **> 500000 e <= 1M**\n",
    "\n",
    "- **25%** possuem apps com número de instalações espalhados no intervalo de **[Q1, Q2] ==> [5000, 50000]**\n",
    "- **25%** possuem apps com número de instalações espalhados no intervalo de **[Q2, Q3] ==> [50000, 500000]**\n",
    "  + **maior variância (dispersão)** dos dados do que o caso anterior"
   ]
  },
  {
   "cell_type": "code",
   "execution_count": null,
   "id": "helpful-filter",
   "metadata": {},
   "outputs": [],
   "source": []
  },
  {
   "cell_type": "markdown",
   "id": "present-messaging",
   "metadata": {},
   "source": [
    "Dos **25% de apps mais instalados**, a maioria deles possuem número de instalações perto de **1M**."
   ]
  },
  {
   "cell_type": "markdown",
   "id": "tropical-symbol",
   "metadata": {},
   "source": [
    "### 2.7 Criando grupos para a quantidade de instalações \n",
    "Vamos agrupar os aplicativos de acordo com seus **números de instalações**. <br/>\n",
    "Este processo é conhecido como **segmentação**: criaremos intervalos de valores (bins) para representar cada grupo. <br/>\n",
    "Em outras palavras, segmentaremos o intervalo original, de modo que cada grupo terá um segmento (sub-intervalo).\n",
    "\n",
    "Vamos adotar as seguintes categorias/grupos para o **número de instalações**:\n",
    "- **Muito Baixo**: [0, 1k] instalações\n",
    "- **Baixo**: (1k, 10k] instalações\n",
    "- **Médio**: (10k, 100k] installações \n",
    "- **Alto**: (100k, 1M]\n",
    "- **Muito Alto**: (1M, 100M]\n",
    "- **Extremamente Alto**: (100M,)\n",
    "\n",
    "PS: esta é apenas uma sugestão de segmentação. Outras opções poderiam ser levadas em conta."
   ]
  },
  {
   "cell_type": "markdown",
   "id": "known-australia",
   "metadata": {},
   "source": [
    "Para criar estas categorias (segmentos, bins) a partir de intervalos numéricos, podemos utilizar o método `pd.cut()` do pandas: # https://pandas.pydata.org/docs/reference/api/pandas.cut.html"
   ]
  },
  {
   "cell_type": "code",
   "execution_count": null,
   "id": "legal-description",
   "metadata": {},
   "outputs": [],
   "source": []
  },
  {
   "cell_type": "code",
   "execution_count": null,
   "id": "royal-bracket",
   "metadata": {},
   "outputs": [],
   "source": []
  },
  {
   "cell_type": "code",
   "execution_count": null,
   "id": "yellow-charger",
   "metadata": {},
   "outputs": [],
   "source": []
  },
  {
   "cell_type": "code",
   "execution_count": null,
   "id": "charming-karma",
   "metadata": {},
   "outputs": [],
   "source": []
  },
  {
   "cell_type": "code",
   "execution_count": null,
   "id": "driven-conditions",
   "metadata": {},
   "outputs": [],
   "source": []
  },
  {
   "cell_type": "markdown",
   "id": "julian-journey",
   "metadata": {},
   "source": [
    "Após a segmentação/agrupamento, conseguimos notar que os dois maiores grupos possuem um número **alto** ou **muito alto** de instalações, enquanto apenas um pequeno número de aplicativos possui um valor **extremamente alto** de instalações. <br/>\n",
    "Mais quais são esses números?"
   ]
  },
  {
   "cell_type": "code",
   "execution_count": null,
   "id": "broadband-athens",
   "metadata": {},
   "outputs": [],
   "source": []
  },
  {
   "cell_type": "markdown",
   "id": "convertible-rally",
   "metadata": {},
   "source": [
    "#### Pie plot"
   ]
  },
  {
   "cell_type": "code",
   "execution_count": null,
   "id": "aquatic-tourist",
   "metadata": {},
   "outputs": [],
   "source": []
  },
  {
   "cell_type": "code",
   "execution_count": null,
   "id": "charitable-garbage",
   "metadata": {},
   "outputs": [],
   "source": []
  },
  {
   "cell_type": "markdown",
   "id": "supreme-nancy",
   "metadata": {},
   "source": [
    "O uso do gráfico de pizza é um pouco _controverso_, uma vez que as **diferenças entre áreas** não são tão perceptíveis do que as **diferenças entre alturas** em um gráfico de barras. <br/>\n",
    "P. ex., por este gráfico, como saber qual área é maior: _Alto_ ou _Muito Alto_??? _Médio_ ou _Baixo_? <br/>\n",
    "Desta maneira, no geral o **gráfico de barras** é preferível.\n",
    "\n",
    "Mas, podemos tentar melhorar o gráfico de pizza adicionando os números de registros de cada fatia:"
   ]
  },
  {
   "cell_type": "code",
   "execution_count": null,
   "id": "another-magic",
   "metadata": {},
   "outputs": [],
   "source": []
  },
  {
   "cell_type": "markdown",
   "id": "upper-speaking",
   "metadata": {},
   "source": [
    "### 2.8 Qual é a proporção de apps Free e Paid?"
   ]
  },
  {
   "cell_type": "code",
   "execution_count": null,
   "id": "adjustable-messaging",
   "metadata": {},
   "outputs": [],
   "source": []
  },
  {
   "cell_type": "code",
   "execution_count": null,
   "id": "hollow-trash",
   "metadata": {},
   "outputs": [],
   "source": []
  },
  {
   "cell_type": "code",
   "execution_count": null,
   "id": "fiscal-plaintiff",
   "metadata": {},
   "outputs": [],
   "source": []
  },
  {
   "cell_type": "code",
   "execution_count": null,
   "id": "surrounded-nudist",
   "metadata": {},
   "outputs": [],
   "source": []
  },
  {
   "cell_type": "markdown",
   "id": "least-punishment",
   "metadata": {},
   "source": [
    "### 2.9 Qual é avaliação média de cada tipo de aplicativo?\n",
    "Variável numérica x Variável Categórica."
   ]
  },
  {
   "cell_type": "code",
   "execution_count": null,
   "id": "physical-airport",
   "metadata": {},
   "outputs": [],
   "source": []
  },
  {
   "cell_type": "code",
   "execution_count": null,
   "id": "official-adrian",
   "metadata": {},
   "outputs": [],
   "source": []
  },
  {
   "cell_type": "code",
   "execution_count": null,
   "id": "immune-hundred",
   "metadata": {},
   "outputs": [],
   "source": []
  },
  {
   "cell_type": "code",
   "execution_count": null,
   "id": "boolean-needle",
   "metadata": {},
   "outputs": [],
   "source": []
  },
  {
   "cell_type": "markdown",
   "id": "premium-findings",
   "metadata": {},
   "source": [
    "#### VISUALIZANDO A DISTRIBUIÇÃO DE NOTAS POR APLICATIVO"
   ]
  },
  {
   "cell_type": "code",
   "execution_count": null,
   "id": "printable-gross",
   "metadata": {},
   "outputs": [],
   "source": []
  },
  {
   "cell_type": "code",
   "execution_count": null,
   "id": "metallic-species",
   "metadata": {},
   "outputs": [],
   "source": []
  },
  {
   "cell_type": "code",
   "execution_count": null,
   "id": "oriented-venice",
   "metadata": {},
   "outputs": [],
   "source": []
  },
  {
   "cell_type": "markdown",
   "id": "studied-queens",
   "metadata": {},
   "source": [
    "##### RIDGE LINE"
   ]
  },
  {
   "cell_type": "code",
   "execution_count": null,
   "id": "fundamental-simple",
   "metadata": {},
   "outputs": [],
   "source": []
  },
  {
   "cell_type": "markdown",
   "id": "jewish-disease",
   "metadata": {},
   "source": [
    "Por mais que a **proporção** de apps gratuitos e pagos sejam bem diferentes, ao analisar as estatísticas descritivas e os plots, conseguimos afirmar que a _distribuição de avaliações_ de cada tipo é similar, sendo os aplicativos pagos ligeiramente melhor avaliados do que os apps gratuitos."
   ]
  },
  {
   "cell_type": "markdown",
   "id": "identical-conspiracy",
   "metadata": {},
   "source": [
    "### 2.10 Qual é distribuição de avaliações de cada tipo de aplicativo de acordo com a quantidade de instalações?\n",
    "Comparação de 3 variáveis: uma numérica e duas categóricas."
   ]
  },
  {
   "cell_type": "code",
   "execution_count": null,
   "id": "funny-arrangement",
   "metadata": {},
   "outputs": [],
   "source": []
  },
  {
   "cell_type": "code",
   "execution_count": null,
   "id": "separated-worthy",
   "metadata": {},
   "outputs": [],
   "source": []
  },
  {
   "cell_type": "markdown",
   "id": "promising-trade",
   "metadata": {},
   "source": [
    "Alguns insights/conlusões:\n",
    "- No geral, a grande maioria dos apps gratuitos e pagos (~75%) possui avaliações próximas de 3.75 para cima, independente do número de instalações.\n",
    "- Não temos **apps pagos** que foram **extremamente baixados** (> 100M)\n",
    "- Não temos a escala de preços, mas faz sentido pensar que quanto maior o preço do app, menor o número de instalações (analisaremos essa hipótese depois)\n",
    "- Apps gratuitos com número de instalação 'Muito Alta' e 'Extremamente Alta' possuem menor variância entre as avaliações, ou seja, a percepção dos usuários é parecida em cada categoria.\n",
    "- Apps pagos com número de instalação 'Alta' e 'Muito Alta' possuem menor variância entre as avaliações, ou seja, a percepção dos usuários é parecida em cada categoria.\n",
    "- Apps com número _'Muito Baixo' de instalações ([0, 1k]) possuem opiniões mais diversas"
   ]
  },
  {
   "cell_type": "markdown",
   "id": "capable-tunnel",
   "metadata": {},
   "source": [
    "### 2.11 Qual é avaliação média de cada categoria para cada tipo de aplicativo?\n",
    "Comparação de 3 variáveis: uma numérica e duas categóricas."
   ]
  },
  {
   "cell_type": "code",
   "execution_count": null,
   "id": "compressed-formula",
   "metadata": {},
   "outputs": [],
   "source": []
  },
  {
   "cell_type": "code",
   "execution_count": null,
   "id": "behind-chart",
   "metadata": {},
   "outputs": [],
   "source": []
  },
  {
   "cell_type": "markdown",
   "id": "presidential-gibson",
   "metadata": {},
   "source": [
    "Analisando este gráfico, podemos identificar algumas categorias cujas as *avaliações médias* **são bem discrepantes** entre os tipos de apps:\n",
    "P. ex: 'Parenting'.\n",
    "\n",
    "Podemos querer analisar esta categoria específica para então tentar entender ou buscar insights das causas destas discrepâncias."
   ]
  },
  {
   "cell_type": "code",
   "execution_count": null,
   "id": "dirty-columbus",
   "metadata": {},
   "outputs": [],
   "source": []
  },
  {
   "cell_type": "code",
   "execution_count": null,
   "id": "collect-barrel",
   "metadata": {},
   "outputs": [],
   "source": []
  },
  {
   "cell_type": "code",
   "execution_count": null,
   "id": "close-bunch",
   "metadata": {},
   "outputs": [],
   "source": []
  },
  {
   "cell_type": "code",
   "execution_count": null,
   "id": "wooden-blowing",
   "metadata": {},
   "outputs": [],
   "source": []
  },
  {
   "cell_type": "code",
   "execution_count": null,
   "id": "representative-circulation",
   "metadata": {},
   "outputs": [],
   "source": []
  },
  {
   "cell_type": "markdown",
   "id": "focal-lobby",
   "metadata": {},
   "source": [
    "Note que a quantidade de apps **pagos** da category 'Parenting' (2 apps - 4%) é _muito menor_ do que de apps **gratuitos** (96%). Além do problema do desbalanceamento, apenas 2 observações é muito pouco para conseguirmos extrair informações. <br/>\n",
    "\n",
    "Dado essas observações, **TOME CUIDADO**, pois podemos tirar conclusões precipitadas em situações como essa."
   ]
  },
  {
   "cell_type": "markdown",
   "id": "abroad-victoria",
   "metadata": {},
   "source": [
    "#### Population Pyramid\n",
    "A Population Pyramid is a pair of back-to-back Histograms (for each sex) that displays the distribution of a population in all age groups and in both sexes. The X-axis is used to plot population numbers and the Y-axis lists all age groups"
   ]
  },
  {
   "cell_type": "code",
   "execution_count": null,
   "id": "imported-colon",
   "metadata": {},
   "outputs": [],
   "source": []
  },
  {
   "cell_type": "markdown",
   "id": "professional-bullet",
   "metadata": {},
   "source": [
    "_Não levando em consideração o tamanho de cada grupo neste momento_, podemos ver que a média das avaliações dos apps **gratuitos** é relativamente similar em todas as categorias. <br/>\n",
    "Já para os aplicativos pagos, a dispersão entre as avaliações médias das categorias é maior."
   ]
  },
  {
   "cell_type": "markdown",
   "id": "prescription-thing",
   "metadata": {},
   "source": [
    "### 2.12 Existe correlação entre os preços dos aplicativos e suas avaliações?\n",
    "Será que quanto mais caro o app, melhor ou pior avaliado ele é?"
   ]
  },
  {
   "cell_type": "code",
   "execution_count": null,
   "id": "danish-simon",
   "metadata": {},
   "outputs": [],
   "source": []
  },
  {
   "cell_type": "code",
   "execution_count": null,
   "id": "played-niagara",
   "metadata": {},
   "outputs": [],
   "source": []
  },
  {
   "cell_type": "code",
   "execution_count": null,
   "id": "differential-advertising",
   "metadata": {},
   "outputs": [],
   "source": []
  },
  {
   "cell_type": "code",
   "execution_count": null,
   "id": "classical-crowd",
   "metadata": {},
   "outputs": [],
   "source": []
  },
  {
   "cell_type": "code",
   "execution_count": null,
   "id": "enormous-agriculture",
   "metadata": {},
   "outputs": [],
   "source": []
  },
  {
   "cell_type": "code",
   "execution_count": null,
   "id": "educated-court",
   "metadata": {},
   "outputs": [],
   "source": []
  },
  {
   "cell_type": "code",
   "execution_count": null,
   "id": "laden-begin",
   "metadata": {},
   "outputs": [],
   "source": []
  },
  {
   "cell_type": "code",
   "execution_count": null,
   "id": "opening-crown",
   "metadata": {},
   "outputs": [],
   "source": []
  },
  {
   "cell_type": "markdown",
   "id": "powered-investigation",
   "metadata": {},
   "source": [
    "<br/>\n",
    "\n",
    "Após todas estas possíveis maneiras de analisar o mesmo fenômeno, concluímos que **não há correlação** entre o preço dos apps e suas avaliações."
   ]
  },
  {
   "cell_type": "markdown",
   "id": "proud-reduction",
   "metadata": {},
   "source": [
    "#### **CORRELAÇÃO DO PREÇOS COM AS DEMAIS VARIÁVEIS NÚMERICAS PARA OS APPS PAGOS**"
   ]
  },
  {
   "cell_type": "code",
   "execution_count": null,
   "id": "lesser-education",
   "metadata": {},
   "outputs": [],
   "source": []
  },
  {
   "cell_type": "markdown",
   "id": "thirty-saturn",
   "metadata": {},
   "source": [
    "Analisando os **coeficientes de correlação**, vemos que **não há nenhuma correlação forte** entre o preço e outra variável numérica.<br/>\n",
    "Isso é interessante, pois tínhamos a impressão de que _quanto mais caro o app_ **menor** o _número de instalações_. Vamos analisar esse cenário com mais cuidado na próxima pergunta."
   ]
  },
  {
   "cell_type": "code",
   "execution_count": null,
   "id": "animal-bible",
   "metadata": {},
   "outputs": [],
   "source": []
  },
  {
   "cell_type": "markdown",
   "id": "fourth-thermal",
   "metadata": {},
   "source": [
    "Por um momento, ignore os os plots de outras variáveis que não incluem o preço.\n",
    "\n",
    "Olhando para os scatterplots com Preço (última coluna), confirmamos, visualmente, que **não há correlações fortes** entre o **preço** e as demais variáveis númericas. <br/>\n",
    "O que notamos é que _parece_ haver uma _correlação (não necessariamente causalidade)_ entre as **avaliações** dos _apps pagos_ com seus **tamanhos**. <br/>\n",
    "Vamos investigar esta hipótese."
   ]
  },
  {
   "cell_type": "code",
   "execution_count": null,
   "id": "enabling-consciousness",
   "metadata": {},
   "outputs": [],
   "source": []
  },
  {
   "cell_type": "markdown",
   "id": "surrounded-berlin",
   "metadata": {},
   "source": [
    "Ao analisar, em uma escala visual maior, o scatterplot entre as variáveis 'Rating' e 'Size', vemos que não há correlação entre as variáveis. <br/>\n",
    "Parece que há uma concentração muito grande de observação na região com Rating entre [4, 5] e Size [0, 0.2e8]. <br/>\n",
    "Vamos checar isso plotando um **hexagonal binning**."
   ]
  },
  {
   "cell_type": "code",
   "execution_count": null,
   "id": "subject-advance",
   "metadata": {},
   "outputs": [],
   "source": []
  },
  {
   "cell_type": "markdown",
   "id": "casual-brief",
   "metadata": {},
   "source": [
    "De fato, há uma quantidade muito grande de observações concentradas na região com Rating [4, 4.7] e Size [0, 0.1]. <br/>\n",
    "Isso mostra que, às vezes, um dado plot, principalmente em escalas pequenas, podem nos enganar visualmente. <br/>\n",
    "\n",
    "P. ex., ao analisar o scatterplot destas duas variáveis, anteriormente obtido pelo `.pairplot`, tínhamos a impressão que os pontos (observações) estavam bem espalhados. Não conseguimos notas essa concentração de observações em uma mesma região, uma vez que os pontos do scatterplot estavam superpostos. <br/>\n",
    "Portanto, **cuidado** durante sua análise exploratória."
   ]
  },
  {
   "cell_type": "code",
   "execution_count": null,
   "id": "gentle-northeast",
   "metadata": {},
   "outputs": [],
   "source": []
  },
  {
   "cell_type": "markdown",
   "id": "regional-thunder",
   "metadata": {},
   "source": [
    "Portanto, ao analisarmos as duas variáveis com mais detalhes e cuidado, percebemos que nossa percepção inicial estava errada."
   ]
  },
  {
   "cell_type": "markdown",
   "id": "individual-printing",
   "metadata": {},
   "source": [
    "### 2.13 O número de instalações está correlacionado com o preço dos apps?\n",
    "Durante a exploração da pergunta 2.10, surgiu a hipótese que _'quanto mais caro for o apps, menor será seu número de instalações/downloads'_. <br/>\n",
    "Vamos então investigar essa hipótese a fundo."
   ]
  },
  {
   "cell_type": "code",
   "execution_count": null,
   "id": "confidential-springer",
   "metadata": {},
   "outputs": [],
   "source": []
  },
  {
   "cell_type": "markdown",
   "id": "middle-round",
   "metadata": {},
   "source": [
    "Pelo coeficiente de correlação, **NÃO** há correlação entre essas duas variáveis."
   ]
  },
  {
   "cell_type": "code",
   "execution_count": null,
   "id": "protective-verification",
   "metadata": {},
   "outputs": [],
   "source": []
  },
  {
   "cell_type": "markdown",
   "id": "recorded-milan",
   "metadata": {},
   "source": [
    "Vemos que há alguns **outliers** que dificultam a visualização. Vamos removê-los \"no olho\"."
   ]
  },
  {
   "cell_type": "code",
   "execution_count": null,
   "id": "introductory-secretariat",
   "metadata": {},
   "outputs": [],
   "source": []
  },
  {
   "cell_type": "code",
   "execution_count": null,
   "id": "resident-acrobat",
   "metadata": {},
   "outputs": [],
   "source": []
  },
  {
   "cell_type": "markdown",
   "id": "uniform-sector",
   "metadata": {},
   "source": [
    "Realmente, não há correlação entre o número de instalações e os preços dos apps, pois há apps caros ($ 400.0) com número médio de instalações: (10k, 100k]. Vejamos quem são eles (o que comem, onde moram, ...) =D"
   ]
  },
  {
   "cell_type": "code",
   "execution_count": null,
   "id": "sticky-concrete",
   "metadata": {},
   "outputs": [],
   "source": []
  },
  {
   "cell_type": "markdown",
   "id": "worst-phoenix",
   "metadata": {},
   "source": [
    "Os dois primeiros apps custam +- $ 400.0 e foram muito baixados. Após uma pesquisa simples no google: https://www.techtudo.com.br/artigos/noticia/2012/03/aplicativos-de-celular-que-servem-apenas-para-mostrar-o-quanto-voce-e-rico.html\n",
    "\n",
    "Este é um ponto importante: Nossa **análise exploratória** visa explorar padrões/comportamentos nos dados. A causalidade de tais não estarão mostradas, necessariamente, nessa exploração (números, tabelas, gráficos). É preciso então, em um segundo momento, visar entender tais causalidades."
   ]
  },
  {
   "cell_type": "markdown",
   "id": "iraqi-income",
   "metadata": {},
   "source": [
    "#### **Analisando apenas apps com preço <= $100**"
   ]
  },
  {
   "cell_type": "code",
   "execution_count": null,
   "id": "anticipated-mississippi",
   "metadata": {},
   "outputs": [],
   "source": []
  },
  {
   "cell_type": "code",
   "execution_count": null,
   "id": "discrete-genealogy",
   "metadata": {},
   "outputs": [],
   "source": []
  },
  {
   "cell_type": "code",
   "execution_count": null,
   "id": "excessive-house",
   "metadata": {},
   "outputs": [],
   "source": []
  },
  {
   "cell_type": "markdown",
   "id": "following-application",
   "metadata": {},
   "source": [
    "Bem, mesmo removendo \"outliers\" e analisando apenas uma faixa de preço, **não há correlação** entre o **preço dos apps** e o **número de ínstalações** (ao menos para este problema e dataset)."
   ]
  },
  {
   "cell_type": "markdown",
   "id": "latin-observation",
   "metadata": {},
   "source": [
    "### 2.14 Qual a correlação entre as variáveis numéricas?\n",
    "Vamos agora fazer uma busca geral, correlacionando todas as variáveis numéricas de nosso dataset. Nosso intuito, é tentar encontrar algum correlação entre variáveis."
   ]
  },
  {
   "cell_type": "code",
   "execution_count": null,
   "id": "inner-aaron",
   "metadata": {},
   "outputs": [],
   "source": []
  },
  {
   "cell_type": "markdown",
   "id": "documented-quick",
   "metadata": {},
   "source": [
    "Apenas analisando os **coeficientes de correlação**, vemos que as únicas variáveis numéricas que apresentam alguma correlação são **Installs** (número de instalações) e **Reviews** (número de revisões), o que é meio óbvio, pensando bem =D"
   ]
  },
  {
   "cell_type": "code",
   "execution_count": null,
   "id": "local-supply",
   "metadata": {},
   "outputs": [],
   "source": []
  },
  {
   "cell_type": "markdown",
   "id": "disturbed-helicopter",
   "metadata": {},
   "source": [
    "Visualmente, a correlação de tais variáveis é visível.\n",
    "\n",
    "Será que há algum padrão diferente ao diferenciarmos apps gratuitos dos pagos?"
   ]
  },
  {
   "cell_type": "code",
   "execution_count": null,
   "id": "satellite-brunswick",
   "metadata": {},
   "outputs": [],
   "source": []
  },
  {
   "cell_type": "code",
   "execution_count": null,
   "id": "forced-poster",
   "metadata": {},
   "outputs": [],
   "source": []
  },
  {
   "cell_type": "code",
   "execution_count": null,
   "id": "fatal-insurance",
   "metadata": {},
   "outputs": [],
   "source": []
  },
  {
   "cell_type": "markdown",
   "id": "responsible-longer",
   "metadata": {},
   "source": [
    "Note que a quantidade de instalações e de reviews são bem baixas para os apps pagos."
   ]
  },
  {
   "cell_type": "markdown",
   "id": "engaging-shelf",
   "metadata": {},
   "source": [
    "### 2.15 Como estão distribuídas as categorias de acordo com a classificação de conteúdo?"
   ]
  },
  {
   "cell_type": "code",
   "execution_count": null,
   "id": "variable-david",
   "metadata": {},
   "outputs": [],
   "source": []
  },
  {
   "cell_type": "code",
   "execution_count": null,
   "id": "moderate-lunch",
   "metadata": {},
   "outputs": [],
   "source": []
  },
  {
   "cell_type": "code",
   "execution_count": null,
   "id": "front-charles",
   "metadata": {},
   "outputs": [],
   "source": []
  },
  {
   "cell_type": "code",
   "execution_count": null,
   "id": "equal-blast",
   "metadata": {},
   "outputs": [],
   "source": []
  },
  {
   "cell_type": "markdown",
   "id": "skilled-philosophy",
   "metadata": {},
   "source": [
    "## Continue a exploração\n",
    "**Sugestões**:\n",
    "- Analisar as categorias e gêneros\n",
    "- Analisar os gêneros e tipos de apps\n",
    "- Analisar as avaliações e números de instalações por gênero\n",
    "- Relacionar a indicação de conteúdo com o número de instalações\n",
    "- Organize todos os achados e conclusões deste notebook em uma apresentação que conte uma história"
   ]
  },
  {
   "cell_type": "code",
   "execution_count": null,
   "id": "interesting-friendship",
   "metadata": {},
   "outputs": [],
   "source": []
  }
 ],
 "metadata": {
  "kernelspec": {
   "display_name": "Python 3",
   "language": "python",
   "name": "python3"
  },
  "language_info": {
   "codemirror_mode": {
    "name": "ipython",
    "version": 3
   },
   "file_extension": ".py",
   "mimetype": "text/x-python",
   "name": "python",
   "nbconvert_exporter": "python",
   "pygments_lexer": "ipython3",
   "version": "3.8.5"
  }
 },
 "nbformat": 4,
 "nbformat_minor": 5
}
