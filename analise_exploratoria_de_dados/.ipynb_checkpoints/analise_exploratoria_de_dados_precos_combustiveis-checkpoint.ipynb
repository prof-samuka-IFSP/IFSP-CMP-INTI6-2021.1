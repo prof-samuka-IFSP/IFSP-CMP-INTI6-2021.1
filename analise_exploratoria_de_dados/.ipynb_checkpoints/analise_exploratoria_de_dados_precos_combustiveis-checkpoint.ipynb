{
 "cells": [
  {
   "cell_type": "markdown",
   "id": "jewish-elizabeth",
   "metadata": {
    "slideshow": {
     "slide_type": "fragment"
    }
   },
   "source": [
    "**INTL6: Inteligência Artificial (2021.1)** <br/>\n",
    "IFSP Campinas\n",
    "\n",
    "Prof. Dr. Samuel Botter Martins <br/><br/>\n",
    "\n",
    "<a rel=\"license\" href=\"http://creativecommons.org/licenses/by-nc-sa/4.0/\"><img alt=\"Creative Commons License\" style=\"border-width:0\" src=\"https://i.creativecommons.org/l/by-nc-sa/4.0/88x31.png\" /></a><br />This work is licensed under a <a rel=\"license\" href=\"http://creativecommons.org/licenses/by-nc-sa/4.0/\">Creative Commons Attribution-NonCommercial-ShareAlike 4.0 International License</a>."
   ]
  },
  {
   "cell_type": "markdown",
   "id": "miniature-removal",
   "metadata": {},
   "source": [
    "### Pacotes usados neste Notebook"
   ]
  },
  {
   "cell_type": "code",
   "execution_count": 1,
   "id": "governmental-consultancy",
   "metadata": {},
   "outputs": [],
   "source": [
    "# pacotes usados neste notebook\n",
    "import pandas as pd\n",
    "import seaborn as sns\n",
    "import matplotlib.pyplot as plt\n",
    "import numpy as np"
   ]
  },
  {
   "cell_type": "markdown",
   "id": "appointed-venice",
   "metadata": {},
   "source": [
    "<h1>Análise Exploratória de Dados</h1><hr/>"
   ]
  },
  {
   "cell_type": "markdown",
   "id": "terminal-venice",
   "metadata": {},
   "source": [
    "A **Análise Exploratória de Dados** refere-se ao processo de investigação de dados (de um problema) para a descoberta de _insights_, padrões, anomalias, testar hipóteses e checar suposições com a ajuda de técnicas e conceitos estatísticos e representações visuais/gráficas."
   ]
  },
  {
   "cell_type": "markdown",
   "id": "weighted-wallet",
   "metadata": {},
   "source": [
    "<h2>1. Dataset</h2>\n",
    "<hr/>"
   ]
  },
  {
   "cell_type": "markdown",
   "id": "active-desert",
   "metadata": {},
   "source": [
    "**Dataset**: Gas Prices in Brazil: https://www.kaggle.com/matheusfreitag/gas-prices-in-brazil <br/>\n",
    "\n",
    "Este dataset contém os **registros dos preços médios semanais dos combustíveis do Brasil entre os anos de 2004 e 2019**. <br/>\n",
    "Cada *amostra (registro/linha)* consiste em um registro de preço aferido para um dado tipo de combustível em uma dada localidade do Brasil. <br/>\n",
    "Alguns dos principais *atributos* (colunas) do dataset são: 'ESTADO', 'PRODUTO', 'NÚMERO DE POSTOS PESQUISADOS', 'PREÇO MÉDIO REVENDA'."
   ]
  },
  {
   "cell_type": "markdown",
   "id": "gothic-failing",
   "metadata": {},
   "source": [
    "O dataset utilizado neste notebook já foi _pré-processado_ anteriormente. Para mais informações, cheque os vídeos mostrados do curso [\"Pandas Essencial\" no YouTube](https://www.youtube.com/playlist?list=PL3ZslI15yo2pfkf7EGNR14xTwe-wZ2bNX), onde realizamos tal preprocessamento."
   ]
  },
  {
   "cell_type": "markdown",
   "id": "arctic-marking",
   "metadata": {},
   "source": [
    "### 1.1. Importando o Dataset"
   ]
  },
  {
   "cell_type": "code",
   "execution_count": null,
   "id": "powered-background",
   "metadata": {},
   "outputs": [],
   "source": []
  },
  {
   "cell_type": "code",
   "execution_count": null,
   "id": "indoor-insert",
   "metadata": {},
   "outputs": [],
   "source": []
  },
  {
   "cell_type": "markdown",
   "id": "elder-constraint",
   "metadata": {},
   "source": [
    "### 1.2. Informações básicas do Dataset"
   ]
  },
  {
   "cell_type": "code",
   "execution_count": null,
   "id": "suitable-facial",
   "metadata": {},
   "outputs": [],
   "source": []
  },
  {
   "cell_type": "markdown",
   "id": "demanding-complaint",
   "metadata": {},
   "source": [
    "<br/>\n",
    "\n",
    "O dataset possui **103392** registros/observações/linhas e **20** atributos/variáveis/colunas.\n",
    "Não há nenhum valor null nas colunas (uma checagem mais rigorosa foi feita no curso [\"Pandas Essencial\"](https://www.youtube.com/playlist?list=PL3ZslI15yo2pfkf7EGNR14xTwe-wZ2bNX))."
   ]
  },
  {
   "cell_type": "markdown",
   "id": "tutorial-archive",
   "metadata": {},
   "source": [
    "<h2>2. Análise Exploratória de Dados</h2>\n",
    "<hr/>"
   ]
  },
  {
   "cell_type": "markdown",
   "id": "cultural-rebate",
   "metadata": {},
   "source": [
    "### 2.1 Como os preços da Gasolina Comum em São Paulo variaram em 2018?"
   ]
  },
  {
   "cell_type": "code",
   "execution_count": null,
   "id": "angry-smart",
   "metadata": {},
   "outputs": [],
   "source": []
  },
  {
   "cell_type": "markdown",
   "id": "clean-armstrong",
   "metadata": {},
   "source": [
    "#### **Estatísticas Descritivas**"
   ]
  },
  {
   "cell_type": "code",
   "execution_count": null,
   "id": "amended-vacuum",
   "metadata": {},
   "outputs": [],
   "source": []
  },
  {
   "cell_type": "markdown",
   "id": "previous-increase",
   "metadata": {},
   "source": [
    "#### **Tendência Central dos Preços**"
   ]
  },
  {
   "cell_type": "code",
   "execution_count": null,
   "id": "outstanding-collectible",
   "metadata": {},
   "outputs": [],
   "source": []
  },
  {
   "cell_type": "markdown",
   "id": "opposed-compilation",
   "metadata": {},
   "source": [
    "### **Variabilidade**"
   ]
  },
  {
   "cell_type": "markdown",
   "id": "utility-framing",
   "metadata": {},
   "source": [
    "#### Histograma com número de bins padrão:"
   ]
  },
  {
   "cell_type": "code",
   "execution_count": null,
   "id": "statutory-mailman",
   "metadata": {},
   "outputs": [],
   "source": []
  },
  {
   "cell_type": "markdown",
   "id": "major-scenario",
   "metadata": {},
   "source": [
    "#### Alterando o **número de bins** do Histograma."
   ]
  },
  {
   "cell_type": "code",
   "execution_count": null,
   "id": "smooth-daily",
   "metadata": {},
   "outputs": [],
   "source": []
  },
  {
   "cell_type": "markdown",
   "id": "mighty-carol",
   "metadata": {},
   "source": [
    "#### Checando a variabilidade usando **BoxPlots**"
   ]
  },
  {
   "cell_type": "code",
   "execution_count": null,
   "id": "integrated-prime",
   "metadata": {},
   "outputs": [],
   "source": []
  },
  {
   "cell_type": "markdown",
   "id": "casual-marina",
   "metadata": {},
   "source": [
    "#### Checando a variabilidade usando **Violin Plot**"
   ]
  },
  {
   "cell_type": "code",
   "execution_count": null,
   "id": "extra-enough",
   "metadata": {},
   "outputs": [],
   "source": []
  },
  {
   "cell_type": "markdown",
   "id": "unusual-grace",
   "metadata": {},
   "source": [
    "### 2.2 Como os preços da Gasolina Comum e do Etanol em São Paulo variaram em 2018?"
   ]
  },
  {
   "cell_type": "code",
   "execution_count": null,
   "id": "concerned-reproduction",
   "metadata": {},
   "outputs": [],
   "source": []
  },
  {
   "cell_type": "markdown",
   "id": "similar-gross",
   "metadata": {},
   "source": [
    "#### Computando as estatísticas descritivas"
   ]
  },
  {
   "cell_type": "code",
   "execution_count": null,
   "id": "welsh-acquisition",
   "metadata": {},
   "outputs": [],
   "source": []
  },
  {
   "cell_type": "markdown",
   "id": "brief-proposition",
   "metadata": {},
   "source": [
    "#### Gráfico de Barras"
   ]
  },
  {
   "cell_type": "code",
   "execution_count": null,
   "id": "controlled-louisiana",
   "metadata": {},
   "outputs": [],
   "source": []
  },
  {
   "cell_type": "markdown",
   "id": "swiss-cinema",
   "metadata": {},
   "source": [
    "#### Histogramas"
   ]
  },
  {
   "cell_type": "code",
   "execution_count": null,
   "id": "advised-modeling",
   "metadata": {},
   "outputs": [],
   "source": []
  },
  {
   "cell_type": "markdown",
   "id": "portable-individual",
   "metadata": {},
   "source": [
    "#### BoxPlot"
   ]
  },
  {
   "cell_type": "code",
   "execution_count": null,
   "id": "shaped-seafood",
   "metadata": {},
   "outputs": [],
   "source": []
  },
  {
   "cell_type": "markdown",
   "id": "entertaining-class",
   "metadata": {},
   "source": [
    "#### Violin Plot"
   ]
  },
  {
   "cell_type": "code",
   "execution_count": null,
   "id": "faced-richardson",
   "metadata": {},
   "outputs": [],
   "source": []
  },
  {
   "cell_type": "markdown",
   "id": "special-lodge",
   "metadata": {},
   "source": [
    "### 2.3 Como os preços da Gasolina Comum e Etanol variaram no estado de SP ao longo dos anos?"
   ]
  },
  {
   "cell_type": "code",
   "execution_count": null,
   "id": "consecutive-diagnosis",
   "metadata": {},
   "outputs": [],
   "source": []
  },
  {
   "cell_type": "markdown",
   "id": "entertaining-debut",
   "metadata": {},
   "source": [
    "#### Lineplot"
   ]
  },
  {
   "cell_type": "code",
   "execution_count": null,
   "id": "yellow-supply",
   "metadata": {},
   "outputs": [],
   "source": []
  },
  {
   "cell_type": "markdown",
   "id": "promising-mediterranean",
   "metadata": {},
   "source": [
    "#### Boxplots"
   ]
  },
  {
   "cell_type": "code",
   "execution_count": null,
   "id": "warming-dodge",
   "metadata": {},
   "outputs": [],
   "source": []
  },
  {
   "cell_type": "markdown",
   "id": "dominant-primary",
   "metadata": {},
   "source": [
    "#### Violin Plot"
   ]
  },
  {
   "cell_type": "code",
   "execution_count": null,
   "id": "acknowledged-vegetarian",
   "metadata": {},
   "outputs": [],
   "source": []
  },
  {
   "cell_type": "markdown",
   "id": "stupid-result",
   "metadata": {},
   "source": [
    "### 2.4 Há correlação entre os os preços da Gasolina Comum e do Etanol do estado de São Paulo de 2018?"
   ]
  },
  {
   "cell_type": "code",
   "execution_count": null,
   "id": "angry-circuit",
   "metadata": {},
   "outputs": [],
   "source": []
  },
  {
   "cell_type": "markdown",
   "id": "equal-poland",
   "metadata": {},
   "source": [
    "### 2.5 Como os preços da Gasolina Comum e Etanol variaram no estado de SP ao longo dos anos e meses?"
   ]
  },
  {
   "cell_type": "code",
   "execution_count": null,
   "id": "solid-commodity",
   "metadata": {},
   "outputs": [],
   "source": []
  },
  {
   "cell_type": "markdown",
   "id": "consistent-alliance",
   "metadata": {},
   "source": [
    "#### Correlação entre os Preços da Gasolina e Etanol no Estado de SP"
   ]
  },
  {
   "cell_type": "code",
   "execution_count": null,
   "id": "sunrise-module",
   "metadata": {},
   "outputs": [],
   "source": []
  },
  {
   "cell_type": "markdown",
   "id": "resident-border",
   "metadata": {},
   "source": [
    "### 2.6 Preços dos Combustíveis por Região ao longo dos anos e meses?"
   ]
  },
  {
   "cell_type": "markdown",
   "id": "photographic-whale",
   "metadata": {},
   "source": [
    "#### UMA ALTERNATIVA"
   ]
  },
  {
   "cell_type": "code",
   "execution_count": null,
   "id": "combined-stations",
   "metadata": {},
   "outputs": [],
   "source": []
  },
  {
   "cell_type": "markdown",
   "id": "inappropriate-butler",
   "metadata": {},
   "source": [
    "No geral, a região **Norte** é a que apresenta os maiores preços de combustíveis do país."
   ]
  },
  {
   "cell_type": "markdown",
   "id": "everyday-physics",
   "metadata": {},
   "source": [
    "#### OUTRA ALTERNATIVA"
   ]
  },
  {
   "cell_type": "code",
   "execution_count": null,
   "id": "empty-valentine",
   "metadata": {},
   "outputs": [],
   "source": []
  },
  {
   "cell_type": "markdown",
   "id": "analyzed-lambda",
   "metadata": {},
   "source": [
    "Como o preço do GLP é muito discrepante do preço dos outros combustíveis, nossa análise fica totalmente prejudicada. <br/>\n",
    "Podemos ignorar o GLP neste momento e comparar os preços entre os outros combustíveis."
   ]
  },
  {
   "cell_type": "code",
   "execution_count": null,
   "id": "knowing-quality",
   "metadata": {},
   "outputs": [],
   "source": []
  },
  {
   "cell_type": "markdown",
   "id": "latest-liabilities",
   "metadata": {},
   "source": [
    "### 2.7 Comportamento dos Preços dos Combustíveis dos Estados do Norte?"
   ]
  },
  {
   "cell_type": "code",
   "execution_count": null,
   "id": "graphic-hotel",
   "metadata": {},
   "outputs": [],
   "source": []
  },
  {
   "cell_type": "code",
   "execution_count": null,
   "id": "derived-contract",
   "metadata": {},
   "outputs": [],
   "source": []
  },
  {
   "cell_type": "code",
   "execution_count": null,
   "id": "equipped-translation",
   "metadata": {},
   "outputs": [],
   "source": []
  },
  {
   "cell_type": "markdown",
   "id": "built-planner",
   "metadata": {},
   "source": [
    "Na média, o estado do **ACRE** apresentou **os preços mais caros** para a _Gasolina Comum_ e _Etanol_ considerando os anos de 2004 a 2018"
   ]
  },
  {
   "cell_type": "markdown",
   "id": "extensive-beginning",
   "metadata": {},
   "source": [
    "##### **ANALISANDO OS PREÇOS ANO A ANO**"
   ]
  },
  {
   "cell_type": "code",
   "execution_count": null,
   "id": "banned-insertion",
   "metadata": {},
   "outputs": [],
   "source": []
  },
  {
   "cell_type": "markdown",
   "id": "pediatric-contrast",
   "metadata": {},
   "source": [
    "### 2.8 Há correlação entre os Preços de Distribuição e o Preço de Revenda dos combustíveis?"
   ]
  },
  {
   "cell_type": "code",
   "execution_count": null,
   "id": "twenty-error",
   "metadata": {},
   "outputs": [],
   "source": []
  },
  {
   "cell_type": "code",
   "execution_count": null,
   "id": "reliable-booth",
   "metadata": {},
   "outputs": [],
   "source": []
  }
 ],
 "metadata": {
  "kernelspec": {
   "display_name": "Python 3",
   "language": "python",
   "name": "python3"
  },
  "language_info": {
   "codemirror_mode": {
    "name": "ipython",
    "version": 3
   },
   "file_extension": ".py",
   "mimetype": "text/x-python",
   "name": "python",
   "nbconvert_exporter": "python",
   "pygments_lexer": "ipython3",
   "version": "3.8.5"
  }
 },
 "nbformat": 4,
 "nbformat_minor": 5
}
