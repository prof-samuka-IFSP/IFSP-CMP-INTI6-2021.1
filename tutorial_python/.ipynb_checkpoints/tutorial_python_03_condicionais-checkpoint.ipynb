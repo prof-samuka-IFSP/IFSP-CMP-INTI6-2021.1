{
 "cells": [
  {
   "cell_type": "markdown",
   "metadata": {},
   "source": [
    "## 3. Condicionais\n",
    "\n",
    "### Estrutura básica de um IF:\n",
    "<code>\n",
    "if condition 01:\n",
    "    Instruction 01\n",
    "    Instruction 02\n",
    "elif (condition 02):\n",
    "    Instruction 03\n",
    "    Instruction 04\n",
    "else:\n",
    "    Instruction 05\n",
    "    Instruction 06\n",
    "<code>\n",
    "    \n",
    "Note que as **identações** definem o _escopo_ de cada opção resultante do IF.\n",
    "\n",
    "As condições devem resultar um valor boolean (True ou False)."
   ]
  },
  {
   "cell_type": "markdown",
   "metadata": {},
   "source": [
    "### Operadores de Comparação\n",
    "\n",
    "| Operação      | Descrição                           || Operação      | Descrição                           |\n",
    "|---------------|-------------------------------------||---------------|-------------------------------------|\n",
    "| ``a == b``    | ``a`` igual a ``b``                 || ``a != b``    | ``a`` diferente de ``b``            |\n",
    "| ``a < b``     | ``a`` menor do que ``b``            || ``a > b``     | ``a`` maior do que ``b``            |\n",
    "| ``a <= b``    | ``a`` menor do que ou igual a ``b`` || ``a >= b``    | ``a`` maior do que ou igual a ``b`` |"
   ]
  },
  {
   "cell_type": "code",
   "execution_count": 58,
   "metadata": {},
   "outputs": [
    {
     "name": "stdout",
     "output_type": "stream",
     "text": [
      "Menor de idade\n"
     ]
    }
   ],
   "source": [
    "idade = 16\n",
    "\n",
    "if idade < 18:\n",
    "    print('Menor de idade')\n",
    "else:\n",
    "    print('Maior de idade')"
   ]
  },
  {
   "cell_type": "code",
   "execution_count": 59,
   "metadata": {},
   "outputs": [
    {
     "name": "stdout",
     "output_type": "stream",
     "text": [
      "IFA\n"
     ]
    }
   ],
   "source": [
    "nota = 5.0\n",
    "\n",
    "if nota < 4.0:\n",
    "    print('Reprovado direto')\n",
    "elif nota < 6.0:\n",
    "    print('IFA')\n",
    "else:\n",
    "    print('Aprovado')"
   ]
  },
  {
   "cell_type": "markdown",
   "metadata": {},
   "source": [
    "Opcionalmente, podemos usar _parênteses_ nas condições."
   ]
  },
  {
   "cell_type": "code",
   "execution_count": 60,
   "metadata": {},
   "outputs": [
    {
     "name": "stdout",
     "output_type": "stream",
     "text": [
      "IFA\n"
     ]
    }
   ],
   "source": [
    "nota = 5.0\n",
    "\n",
    "if (nota < 4.0):\n",
    "    print('Reprovado direto')\n",
    "elif (nota < 6.0):\n",
    "    print('IFA')\n",
    "else:\n",
    "    print('Aprovado')"
   ]
  },
  {
   "cell_type": "code",
   "execution_count": 61,
   "metadata": {},
   "outputs": [],
   "source": [
    "### Comparando Booleans"
   ]
  },
  {
   "cell_type": "code",
   "execution_count": 62,
   "metadata": {},
   "outputs": [
    {
     "name": "stdout",
     "output_type": "stream",
     "text": [
      "Aluno está matriculado!\n"
     ]
    }
   ],
   "source": [
    "aluno_esta_matriculado = True\n",
    "\n",
    "if aluno_esta_matriculado is True:\n",
    "    print('Aluno está matriculado!')"
   ]
  },
  {
   "cell_type": "code",
   "execution_count": 63,
   "metadata": {},
   "outputs": [
    {
     "name": "stdout",
     "output_type": "stream",
     "text": [
      "O aluno não é um Jedi\n",
      "O aluno não é um Jedi\n"
     ]
    }
   ],
   "source": [
    "aluno_eh_jedi = False\n",
    "\n",
    "if aluno_eh_jedi is False:\n",
    "    print('O aluno não é um Jedi')\n",
    "\n",
    "# alternativa: usando not\n",
    "if not aluno_eh_jedi:\n",
    "    print('O aluno não é um Jedi')"
   ]
  },
  {
   "cell_type": "markdown",
   "metadata": {},
   "source": [
    "### Combinando condições com `and` e`or`"
   ]
  },
  {
   "cell_type": "code",
   "execution_count": 64,
   "metadata": {},
   "outputs": [
    {
     "name": "stdout",
     "output_type": "stream",
     "text": [
      "IFA\n",
      "IFA\n"
     ]
    }
   ],
   "source": [
    "if nota >= 4.0 and nota < 6.0:\n",
    "    print('IFA')\n",
    "\n",
    "if ((nota >= 4.0) and (nota < 6.0)):\n",
    "    print('IFA')"
   ]
  },
  {
   "cell_type": "code",
   "execution_count": 65,
   "metadata": {},
   "outputs": [
    {
     "name": "stdout",
     "output_type": "stream",
     "text": [
      "Não foi pra IFA\n"
     ]
    }
   ],
   "source": [
    "nota = 3.0\n",
    "\n",
    "if nota < 4.0 or nota >= 6.0:\n",
    "    print('Não foi pra IFA')"
   ]
  },
  {
   "cell_type": "code",
   "execution_count": 66,
   "metadata": {},
   "outputs": [
    {
     "name": "stdout",
     "output_type": "stream",
     "text": [
      "Temos um Jedi reprovado!\n"
     ]
    }
   ],
   "source": [
    "if nota < 6.0 and not aluno_eh_jedi:\n",
    "    print('Temos um Jedi reprovado!')"
   ]
  },
  {
   "cell_type": "markdown",
   "metadata": {},
   "source": [
    "### Armazenando booleans resultantes de condicionais"
   ]
  },
  {
   "cell_type": "code",
   "execution_count": 67,
   "metadata": {},
   "outputs": [
    {
     "name": "stdout",
     "output_type": "stream",
     "text": [
      "Foi aprovado? True\n"
     ]
    }
   ],
   "source": [
    "nota = 7.0\n",
    "foi_aprovado = (nota >= 6.0)\n",
    "\n",
    "print(f'Foi aprovado? {foi_aprovado}')"
   ]
  },
  {
   "cell_type": "markdown",
   "metadata": {},
   "source": [
    "### Condicionais em uma única linha"
   ]
  },
  {
   "cell_type": "code",
   "execution_count": 68,
   "metadata": {},
   "outputs": [
    {
     "name": "stdout",
     "output_type": "stream",
     "text": [
      "Status do aluno: Aprovado\n"
     ]
    }
   ],
   "source": [
    "nota = 7\n",
    "\n",
    "status = 'Aprovado' if nota >= 6.0 else 'Reprovado'\n",
    "\n",
    "print(f'Status do aluno: {status}')"
   ]
  }
 ],
 "metadata": {
  "kernelspec": {
   "display_name": "Python 3",
   "language": "python",
   "name": "python3"
  },
  "language_info": {
   "codemirror_mode": {
    "name": "ipython",
    "version": 3
   },
   "file_extension": ".py",
   "mimetype": "text/x-python",
   "name": "python",
   "nbconvert_exporter": "python",
   "pygments_lexer": "ipython3",
   "version": "3.9.0"
  }
 },
 "nbformat": 4,
 "nbformat_minor": 4
}
