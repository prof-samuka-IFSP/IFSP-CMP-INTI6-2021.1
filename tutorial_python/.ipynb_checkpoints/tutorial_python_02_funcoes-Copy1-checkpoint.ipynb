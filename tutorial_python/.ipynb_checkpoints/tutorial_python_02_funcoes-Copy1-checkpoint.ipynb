{
 "cells": [
  {
   "cell_type": "markdown",
   "metadata": {},
   "source": [
    "## 2. Funções\n",
    "\n",
    "### Esqueleto de uma função em python:\n",
    "<code>\n",
    "def functionName(param1, param2, param3=val):\n",
    "    instruction 01\n",
    "    instruction 02\n",
    "    return X\n",
    "<code>"
   ]
  },
  {
   "cell_type": "markdown",
   "metadata": {},
   "source": [
    "### Funções podem NÃO ter retorno"
   ]
  },
  {
   "cell_type": "code",
   "execution_count": 1,
   "metadata": {},
   "outputs": [
    {
     "name": "stdout",
     "output_type": "stream",
     "text": [
      "Imprimindo a variável x:\n",
      "10\n",
      "\n",
      "Imprimindo a variável x:\n",
      "Darth Vader\n",
      "\n"
     ]
    }
   ],
   "source": [
    "def print_parametro(x):\n",
    "    print(\"Imprimindo a variável x:\")\n",
    "    print(x)\n",
    "    print(\"\")\n",
    "\n",
    "a = 10\n",
    "print_parametro(a)\n",
    "\n",
    "nome = \"Darth Vader\"\n",
    "print_parametro(nome)"
   ]
  },
  {
   "cell_type": "markdown",
   "metadata": {},
   "source": [
    "### Funções podem ter retorno"
   ]
  },
  {
   "cell_type": "code",
   "execution_count": 2,
   "metadata": {},
   "outputs": [
    {
     "name": "stdout",
     "output_type": "stream",
     "text": [
      "30\n"
     ]
    }
   ],
   "source": [
    "def soma(x, y):\n",
    "    z = x + y\n",
    "    return z\n",
    "\n",
    "a = 10\n",
    "b = 20\n",
    "c = soma(a, b)\n",
    "\n",
    "print(c)"
   ]
  },
  {
   "cell_type": "markdown",
   "metadata": {},
   "source": [
    "### Funções podem ter múltiplos retornos"
   ]
  },
  {
   "cell_type": "code",
   "execution_count": 3,
   "metadata": {},
   "outputs": [
    {
     "name": "stdout",
     "output_type": "stream",
     "text": [
      "Soma = 30 e sub = -10\n"
     ]
    }
   ],
   "source": [
    "def soma_e_subtracao(x, y):\n",
    "    soma = x + y\n",
    "    sub = x - y\n",
    "    return soma, sub\n",
    "\n",
    "a = 10\n",
    "b = 20\n",
    "soma, sub = soma_e_subtracao(a, b)\n",
    "\n",
    "print(f'Soma = {soma} e sub = {sub}')"
   ]
  },
  {
   "cell_type": "markdown",
   "metadata": {},
   "source": [
    "### Escopo\n",
    "Todo **escopo** em Python (funções, loops, condicionais, classes, etc...) usam *dois pontos (:)* e *identação*:\n",
    "Os **dois pontos (:)** servem para _\"abrir\"_ o escopo, e _cada instrução_ dentro do escopo devem ser **identadas** à direita.\n",
    "\n",
    "Convenciona-se usar *espaços* ao invés de *tabs* para a **identação**. Todas as instruções do escopo **devem ter a mesma identação** (p. ex, a mesma quantidade de espaços)."
   ]
  },
  {
   "cell_type": "markdown",
   "metadata": {},
   "source": [
    "<code>\n",
    "def functionName(param1, param2, param3=val):\n",
    "    instruction 01  # 4 espaços de identação\n",
    "    instruction 02  # 4 espaços de identação\n",
    "    return X  # 4 espaços de identação\n",
    "</code>"
   ]
  },
  {
   "cell_type": "markdown",
   "metadata": {},
   "source": [
    "### Funções com parâmetros default (opcionais)"
   ]
  },
  {
   "cell_type": "code",
   "execution_count": 4,
   "metadata": {},
   "outputs": [],
   "source": [
    "def login(sistema, usuario='root', senha='123'):\n",
    "    print(f'Usuário: {usuario}')\n",
    "    print(f'Senha: {senha}')"
   ]
  },
  {
   "cell_type": "code",
   "execution_count": 5,
   "metadata": {},
   "outputs": [
    {
     "name": "stdout",
     "output_type": "stream",
     "text": [
      "Usuário: samuka\n",
      "Senha: password\n"
     ]
    }
   ],
   "source": [
    "sistema_1 = 'Google'\n",
    "usuario_1 = 'samuka'\n",
    "senha_1 = 'password'\n",
    "login(sistema_1, usuario_1, senha_1)"
   ]
  },
  {
   "cell_type": "markdown",
   "metadata": {},
   "source": [
    "<br/>\n",
    "Caso o parâmetro não seja chamado, seu valor default é usado."
   ]
  },
  {
   "cell_type": "code",
   "execution_count": 6,
   "metadata": {},
   "outputs": [
    {
     "name": "stdout",
     "output_type": "stream",
     "text": [
      "Usuário: samuka\n",
      "Senha: 123\n"
     ]
    }
   ],
   "source": [
    "sistema_2 = 'Facebook'\n",
    "usuario_2 = 'samuka'\n",
    "login(sistema_2, usuario_2)"
   ]
  },
  {
   "cell_type": "markdown",
   "metadata": {},
   "source": [
    "### Parâmetros Nomeados\n",
    "Ao chamar uma função, podemos passar seus parâmetros em qualquer ordem. Basta que informemos o nome do argumento/variável da função."
   ]
  },
  {
   "cell_type": "code",
   "execution_count": 7,
   "metadata": {},
   "outputs": [
    {
     "name": "stdout",
     "output_type": "stream",
     "text": [
      "Usuário: samuka\n",
      "Senha: password\n"
     ]
    }
   ],
   "source": [
    "login(senha=senha_1, sistema=sistema_1, usuario=usuario_1)"
   ]
  },
  {
   "cell_type": "markdown",
   "metadata": {},
   "source": [
    "### Function Annotations (PEP 3107)\n",
    "Há a possibilidade de indicar o tipo de parâmetros e retorno de funções em Python. <br/>\n",
    "Isso se chama _function annotation_.\n",
    "\n",
    "Os tipos definidos **apenas** servem como indicativo ao programador dos tipos de dados esperados. <br/>\n",
    "Algumas bibliotecas externas também podem interpretar tais \"metas anotações\" para algum propósito.\n",
    "\n",
    "Portanto, o interpretador python **NÃO** leva essas anotações de tipos em consideração durante sua execução."
   ]
  },
  {
   "cell_type": "code",
   "execution_count": 8,
   "metadata": {},
   "outputs": [
    {
     "name": "stdout",
     "output_type": "stream",
     "text": [
      "10 + 5 = 15\n"
     ]
    }
   ],
   "source": [
    "def soma_de_inteiros(x: int, y: int) -> int:\n",
    "        return x + y\n",
    "\n",
    "a = 10\n",
    "b = 5\n",
    "print(f'{a} + {b} = {soma_de_inteiros(a, b)}')"
   ]
  },
  {
   "cell_type": "markdown",
   "metadata": {},
   "source": [
    "Parâmetros de outros tipos são aceitos e processados normalmente."
   ]
  },
  {
   "cell_type": "code",
   "execution_count": 9,
   "metadata": {},
   "outputs": [
    {
     "name": "stdout",
     "output_type": "stream",
     "text": [
      "10.5 + 5.5 = 16.0\n"
     ]
    }
   ],
   "source": [
    "a = 10.5\n",
    "b = 5.5\n",
    "print(f'{a} + {b} = {soma_de_inteiros(a, b)}')"
   ]
  },
  {
   "cell_type": "markdown",
   "metadata": {},
   "source": [
    "### Comentários e Docstring\n",
    "Em Python, comentários são definidos de duas maneiras:\n",
    "\n",
    "1. Utilizando # (comentário de uma linha só)"
   ]
  },
  {
   "cell_type": "code",
   "execution_count": 10,
   "metadata": {},
   "outputs": [],
   "source": [
    "# este é um comentário de uma linha só"
   ]
  },
  {
   "cell_type": "markdown",
   "metadata": {},
   "source": [
    "2. Usando _Docstrings_ (múltiplas linhas)"
   ]
  },
  {
   "cell_type": "code",
   "execution_count": 11,
   "metadata": {},
   "outputs": [
    {
     "data": {
      "text/plain": [
       "'Este é um comentário\\nde múltiplas\\nlinhas'"
      ]
     },
     "execution_count": 11,
     "metadata": {},
     "output_type": "execute_result"
    }
   ],
   "source": [
    "'''Este é um comentário\n",
    "de múltiplas\n",
    "linhas'''\n"
   ]
  },
  {
   "cell_type": "code",
   "execution_count": 12,
   "metadata": {},
   "outputs": [
    {
     "data": {
      "text/plain": [
       "'Este é outro comentário\\nde múltiplas\\nlinhas'"
      ]
     },
     "execution_count": 12,
     "metadata": {},
     "output_type": "execute_result"
    }
   ],
   "source": [
    "\"\"\"Este é outro comentário\n",
    "de múltiplas\n",
    "linhas\"\"\""
   ]
  },
  {
   "cell_type": "markdown",
   "metadata": {},
   "source": [
    "<br/>\n",
    "Docstrings podem ser usados para documentar funções:"
   ]
  },
  {
   "cell_type": "code",
   "execution_count": 13,
   "metadata": {},
   "outputs": [],
   "source": [
    "def soma(x, y):\n",
    "    '''Esta função soma dois números inteiros.\n",
    "\n",
    "    Parameters:\n",
    "    x (int): Primeiro número inteiro.\n",
    "    y (int): Segundo número inteiro.\n",
    "\n",
    "    Returns:\n",
    "    int: Soma resultante\n",
    "    '''\n",
    "    return x + y"
   ]
  },
  {
   "cell_type": "markdown",
   "metadata": {},
   "source": [
    "<br/>\n",
    "Quando uma função (ou classe) está documentada usando _docstring_, é possível usar a função **help()** para ler a documentação:"
   ]
  },
  {
   "cell_type": "code",
   "execution_count": 14,
   "metadata": {},
   "outputs": [
    {
     "name": "stdout",
     "output_type": "stream",
     "text": [
      "Help on function soma in module __main__:\n",
      "\n",
      "soma(x, y)\n",
      "    Esta função soma dois números inteiros.\n",
      "    \n",
      "    Parameters:\n",
      "    x (int): Primeiro número inteiro.\n",
      "    y (int): Segundo número inteiro.\n",
      "    \n",
      "    Returns:\n",
      "    int: Soma resultante\n",
      "\n"
     ]
    }
   ],
   "source": [
    "help(soma)"
   ]
  }
 ],
 "metadata": {
  "kernelspec": {
   "display_name": "Python 3",
   "language": "python",
   "name": "python3"
  },
  "language_info": {
   "codemirror_mode": {
    "name": "ipython",
    "version": 3
   },
   "file_extension": ".py",
   "mimetype": "text/x-python",
   "name": "python",
   "nbconvert_exporter": "python",
   "pygments_lexer": "ipython3",
   "version": "3.9.0"
  }
 },
 "nbformat": 4,
 "nbformat_minor": 4
}
