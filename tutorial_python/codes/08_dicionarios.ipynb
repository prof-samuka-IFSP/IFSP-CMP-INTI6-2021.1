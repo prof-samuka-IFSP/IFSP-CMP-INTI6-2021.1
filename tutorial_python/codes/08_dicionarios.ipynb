{
 "cells": [
  {
   "cell_type": "markdown",
   "metadata": {},
   "source": [
    "## Dicionários (tabelas hash)\n",
    "Dicionários são tabelas hash: estruturas que mapeiams _chaves_ à _valores_. <br/>\n",
    "Muito utilizado quando queremos **acesso rápido** (_O(1)_) a elementos/valores associados a uma dada chave."
   ]
  },
  {
   "cell_type": "code",
   "execution_count": 1,
   "metadata": {},
   "outputs": [
    {
     "name": "stdout",
     "output_type": "stream",
     "text": [
      "{'nome': 'Luke Skywalker', 'idade': 16, 'peso': 60.0}\n"
     ]
    }
   ],
   "source": [
    "luke = {'nome': 'Luke Skywalker', 'idade': 16, 'peso': 60.0}\n",
    "\n",
    "print(luke)"
   ]
  },
  {
   "cell_type": "markdown",
   "metadata": {},
   "source": [
    "Neste caso, 'nome', 'idade' e 'peso' sãos as chaves com os respectivos valores 'Luke Skywalker', 16, 60.0."
   ]
  },
  {
   "cell_type": "markdown",
   "metadata": {},
   "source": [
    "Um dado _valor_ é acessado passando a _chave_ via **colchetes**:"
   ]
  },
  {
   "cell_type": "code",
   "execution_count": 2,
   "metadata": {},
   "outputs": [
    {
     "data": {
      "text/plain": [
       "'Luke Skywalker'"
      ]
     },
     "execution_count": 2,
     "metadata": {},
     "output_type": "execute_result"
    }
   ],
   "source": [
    "luke['nome']"
   ]
  },
  {
   "cell_type": "markdown",
   "metadata": {},
   "source": [
    "Podemos alterar um valor acessando da mesma maneira:"
   ]
  },
  {
   "cell_type": "code",
   "execution_count": 3,
   "metadata": {},
   "outputs": [
    {
     "name": "stdout",
     "output_type": "stream",
     "text": [
      "{'nome': 'Luke Skywalker', 'idade': 16, 'peso': 70}\n"
     ]
    }
   ],
   "source": [
    "luke['peso'] = 70\n",
    "\n",
    "print(luke)"
   ]
  },
  {
   "cell_type": "markdown",
   "metadata": {},
   "source": [
    "Podemos **adicionar** um nome elemento, apenas informando o novo _par de chaves e valor_:"
   ]
  },
  {
   "cell_type": "code",
   "execution_count": 4,
   "metadata": {},
   "outputs": [
    {
     "name": "stdout",
     "output_type": "stream",
     "text": [
      "{'nome': 'Luke Skywalker', 'idade': 16, 'peso': 70, 'eh_jedi': True, 'notas': [10.0, 5.0, 2.2]}\n"
     ]
    }
   ],
   "source": [
    "luke['eh_jedi'] = True\n",
    "luke['notas'] = [10.0, 5.0, 2.2]\n",
    "\n",
    "print(luke)"
   ]
  },
  {
   "cell_type": "markdown",
   "metadata": {},
   "source": [
    "Note que usamos **diversos tipos** de _valores_ no mesmo dicionário. Podemos também usar **mais um tipo de chaves**, apesar que, geralmente, isso não é muito usado."
   ]
  },
  {
   "cell_type": "code",
   "execution_count": 5,
   "metadata": {},
   "outputs": [
    {
     "name": "stdout",
     "output_type": "stream",
     "text": [
      "{'nome': 'Luke Skywalker', 'idade': 16, 'peso': 70, 'eh_jedi': True, 'notas': [10.0, 5.0, 2.2], 1: 'Um'}\n"
     ]
    }
   ],
   "source": [
    "luke[1] = 'Um'\n",
    "print(luke)"
   ]
  },
  {
   "cell_type": "markdown",
   "metadata": {},
   "source": [
    "Para copiar um dicionário:"
   ]
  },
  {
   "cell_type": "code",
   "execution_count": 6,
   "metadata": {},
   "outputs": [
    {
     "name": "stdout",
     "output_type": "stream",
     "text": [
      "{'nome': 'Luke Skywalker', 'idade': 16, 'peso': 70, 'eh_jedi': True, 'notas': [10.0, 5.0, 2.2]}\n",
      "{'nome': 'Luke Skywalker', 'idade': 16, 'peso': 70, 'eh_jedi': True, 'notas': [10.0, 5.0, 2.2], 1: 'Um'}\n"
     ]
    }
   ],
   "source": [
    "luke_clone = dict(luke)\n",
    "luke.pop(1, None)  # delete a chave 1 do dicionário luke\n",
    "\n",
    "print(luke)\n",
    "print(luke_clone)"
   ]
  },
  {
   "cell_type": "markdown",
   "metadata": {},
   "source": [
    "#### Checando se um dicionário possui uma dada chave"
   ]
  },
  {
   "cell_type": "code",
   "execution_count": 7,
   "metadata": {},
   "outputs": [
    {
     "data": {
      "text/plain": [
       "True"
      ]
     },
     "execution_count": 7,
     "metadata": {},
     "output_type": "execute_result"
    }
   ],
   "source": [
    "'nome' in luke"
   ]
  },
  {
   "cell_type": "code",
   "execution_count": 8,
   "metadata": {},
   "outputs": [
    {
     "data": {
      "text/plain": [
       "False"
      ]
     },
     "execution_count": 8,
     "metadata": {},
     "output_type": "execute_result"
    }
   ],
   "source": [
    "'profissao' in luke"
   ]
  },
  {
   "cell_type": "code",
   "execution_count": 9,
   "metadata": {},
   "outputs": [
    {
     "data": {
      "text/plain": [
       "True"
      ]
     },
     "execution_count": 9,
     "metadata": {},
     "output_type": "execute_result"
    }
   ],
   "source": [
    "'profissao' not in luke"
   ]
  },
  {
   "cell_type": "markdown",
   "metadata": {},
   "source": [
    "#### For-each em Dicionários"
   ]
  },
  {
   "cell_type": "code",
   "execution_count": 10,
   "metadata": {},
   "outputs": [
    {
     "name": "stdout",
     "output_type": "stream",
     "text": [
      "[nome] = Luke Skywalker\n",
      "[idade] = 16\n",
      "[peso] = 70\n",
      "[eh_jedi] = True\n",
      "[notas] = [10.0, 5.0, 2.2]\n"
     ]
    }
   ],
   "source": [
    "for chave in luke:\n",
    "    print(f'[{chave}] = {luke[chave]}')"
   ]
  },
  {
   "cell_type": "code",
   "execution_count": 11,
   "metadata": {},
   "outputs": [
    {
     "data": {
      "text/plain": [
       "dict_keys(['nome', 'idade', 'peso', 'eh_jedi', 'notas'])"
      ]
     },
     "execution_count": 11,
     "metadata": {},
     "output_type": "execute_result"
    }
   ],
   "source": [
    "luke.keys()  # retorna uma lista com todas as chaves de um dicionário"
   ]
  },
  {
   "cell_type": "code",
   "execution_count": 12,
   "metadata": {},
   "outputs": [
    {
     "name": "stdout",
     "output_type": "stream",
     "text": [
      "[nome] = Luke Skywalker\n",
      "[idade] = 16\n",
      "[peso] = 70\n",
      "[eh_jedi] = True\n",
      "[notas] = [10.0, 5.0, 2.2]\n"
     ]
    }
   ],
   "source": [
    "for chave in luke.keys():\n",
    "    print(f'[{chave}] = {luke[chave]}')"
   ]
  },
  {
   "cell_type": "code",
   "execution_count": 13,
   "metadata": {},
   "outputs": [
    {
     "data": {
      "text/plain": [
       "dict_values(['Luke Skywalker', 16, 70, True, [10.0, 5.0, 2.2]])"
      ]
     },
     "execution_count": 13,
     "metadata": {},
     "output_type": "execute_result"
    }
   ],
   "source": [
    "luke.values()  # retorna uma lista como todos os valores de um dicionário"
   ]
  },
  {
   "cell_type": "code",
   "execution_count": 14,
   "metadata": {},
   "outputs": [
    {
     "name": "stdout",
     "output_type": "stream",
     "text": [
      "valor = Luke Skywalker\n",
      "valor = 16\n",
      "valor = 70\n",
      "valor = True\n",
      "valor = [10.0, 5.0, 2.2]\n"
     ]
    }
   ],
   "source": [
    "for valor in luke.values():\n",
    "    print(f'valor = {valor}')"
   ]
  },
  {
   "cell_type": "code",
   "execution_count": 15,
   "metadata": {},
   "outputs": [
    {
     "data": {
      "text/plain": [
       "dict_items([('nome', 'Luke Skywalker'), ('idade', 16), ('peso', 70), ('eh_jedi', True), ('notas', [10.0, 5.0, 2.2])])"
      ]
     },
     "execution_count": 15,
     "metadata": {},
     "output_type": "execute_result"
    }
   ],
   "source": [
    "luke.items()  # retorna uma lista de tuplas, onde o primeiro elemento de cada tupla é uma chave e seu segundo elemento é seu respectivo valor indexado"
   ]
  },
  {
   "cell_type": "code",
   "execution_count": 16,
   "metadata": {},
   "outputs": [
    {
     "name": "stdout",
     "output_type": "stream",
     "text": [
      "[nome] = Luke Skywalker\n",
      "[idade] = 16\n",
      "[peso] = 70\n",
      "[eh_jedi] = True\n",
      "[notas] = [10.0, 5.0, 2.2]\n"
     ]
    }
   ],
   "source": [
    "for chave, valor in luke.items():\n",
    "    print(f'[{chave}] = {valor}')"
   ]
  },
  {
   "cell_type": "markdown",
   "metadata": {},
   "source": [
    "#### Dictionary Comprehensions"
   ]
  },
  {
   "cell_type": "code",
   "execution_count": 17,
   "metadata": {},
   "outputs": [
    {
     "name": "stdout",
     "output_type": "stream",
     "text": [
      "{'Mercúrio': 'M', 'Vênus': 'V', 'Terra': 'T', 'Marte': 'M', 'Júpiter': 'J', 'Saturno': 'S', 'Urano': 'U', 'Netuno': 'N'}\n"
     ]
    }
   ],
   "source": [
    "planetas = ['Mercúrio', 'Vênus', 'Terra', 'Marte', 'Júpiter', 'Saturno', 'Urano', 'Netuno']\n",
    "\n",
    "iniciais_dos_planetas = {planeta: planeta[0] for planeta in planetas}  # cada planeta será uma chave e sua inicial será seu valor\n",
    "print(iniciais_dos_planetas)"
   ]
  }
 ],
 "metadata": {
  "kernelspec": {
   "display_name": "Python 3",
   "language": "python",
   "name": "python3"
  },
  "language_info": {
   "codemirror_mode": {
    "name": "ipython",
    "version": 3
   },
   "file_extension": ".py",
   "mimetype": "text/x-python",
   "name": "python",
   "nbconvert_exporter": "python",
   "pygments_lexer": "ipython3",
   "version": "3.9.0"
  }
 },
 "nbformat": 4,
 "nbformat_minor": 4
}
