{
 "cells": [
  {
   "cell_type": "markdown",
   "metadata": {},
   "source": [
    "## Módulos externas"
   ]
  },
  {
   "cell_type": "markdown",
   "metadata": {},
   "source": [
    "#### Importando um módulo (biblioteca)"
   ]
  },
  {
   "cell_type": "code",
   "execution_count": 1,
   "metadata": {},
   "outputs": [
    {
     "data": {
      "text/plain": [
       "1024.0"
      ]
     },
     "execution_count": 1,
     "metadata": {},
     "output_type": "execute_result"
    }
   ],
   "source": [
    "import math  # importa o módulo math, para acessar seus métodos, atributos, math.metodo_ou_atributo(...)\n",
    "\n",
    "math.pow(2, 10)  # quanto é 2 elevado a 10?"
   ]
  },
  {
   "cell_type": "markdown",
   "metadata": {},
   "source": [
    "#### Atribuindo um nome diferente (alias) a um modulo importado"
   ]
  },
  {
   "cell_type": "code",
   "execution_count": 2,
   "metadata": {},
   "outputs": [
    {
     "data": {
      "text/plain": [
       "1"
      ]
     },
     "execution_count": 2,
     "metadata": {},
     "output_type": "execute_result"
    }
   ],
   "source": [
    "import random as ran\n",
    "\n",
    "ran.randint(0, 10)  # gera um número aleatório no intervalo [0, 10]"
   ]
  },
  {
   "cell_type": "markdown",
   "metadata": {},
   "source": [
    "#### Importando apenas algumas \"coisas\" (funções, atributos, constantes, ...) de um módulo\n",
    "Deixa todas as \"coisas\" acessíveis sem a necessidade de chamar `modulo.coisa`"
   ]
  },
  {
   "cell_type": "code",
   "execution_count": 3,
   "metadata": {},
   "outputs": [
    {
     "name": "stdout",
     "output_type": "stream",
     "text": [
      "1.4142135623730951\n",
      "4.0\n",
      "3.141592653589793\n"
     ]
    }
   ],
   "source": [
    "from math import sqrt, log2, pi\n",
    "\n",
    "print(sqrt(2))  # imprime a raíz quadrada de 2\n",
    "print(log2(16))  # imprime o log de 16 na base 2\n",
    "print(pi)  # imprime o número pi"
   ]
  },
  {
   "cell_type": "markdown",
   "metadata": {},
   "source": [
    "#### Importando todas as \"coisas\" (funções, atributos, constantes, ...) de um módulo"
   ]
  },
  {
   "cell_type": "code",
   "execution_count": 4,
   "metadata": {},
   "outputs": [
    {
     "data": {
      "text/plain": [
       "1.0"
      ]
     },
     "execution_count": 4,
     "metadata": {},
     "output_type": "execute_result"
    }
   ],
   "source": [
    "from math import *\n",
    "\n",
    "log10(10)  # log de 10 na base 10"
   ]
  },
  {
   "cell_type": "markdown",
   "metadata": {},
   "source": [
    "Apesar de possívels, tal prática **não é indicada**, uma vez que (1) \"coisas\", p. ex., de módulos diferentes mas de mesmo nome podem ser importadas, e (2) pode não haver necessidade de ter acesso a todas as \"coisas\" do módulo."
   ]
  },
  {
   "cell_type": "markdown",
   "metadata": {},
   "source": [
    "### Submódulos\n",
    "Alguns módulos podem possuir **submódulo**:"
   ]
  },
  {
   "cell_type": "code",
   "execution_count": 5,
   "metadata": {},
   "outputs": [
    {
     "name": "stdout",
     "output_type": "stream",
     "text": [
      "numpy.random é um <class 'module'>\n"
     ]
    }
   ],
   "source": [
    "import numpy\n",
    "\n",
    "print(f'numpy.random é um {type(numpy.random)}')"
   ]
  },
  {
   "cell_type": "code",
   "execution_count": 6,
   "metadata": {},
   "outputs": [
    {
     "data": {
      "text/plain": [
       "5"
      ]
     },
     "execution_count": 6,
     "metadata": {},
     "output_type": "execute_result"
    }
   ],
   "source": [
    "from numpy import random\n",
    "\n",
    "random.randint(0, 10)"
   ]
  },
  {
   "cell_type": "markdown",
   "metadata": {},
   "source": [
    "### Módulos Uteis"
   ]
  },
  {
   "cell_type": "markdown",
   "metadata": {},
   "source": [
    "- `os`: funções do sistema operacional\n",
    "- `glob`: funções para criar listas a partir de diretórios do sistema\n",
    "- `shutil`: funções para gerenciar arquivos e diretórios\n",
    "- `math`: funções matemáticas\n",
    "- `random`: geradores de números aleatórios\n",
    "- `pickle`: protocolos para (de-)serialização de dados de entrada e saída"
   ]
  }
 ],
 "metadata": {
  "kernelspec": {
   "display_name": "Python 3",
   "language": "python",
   "name": "python3"
  },
  "language_info": {
   "codemirror_mode": {
    "name": "ipython",
    "version": 3
   },
   "file_extension": ".py",
   "mimetype": "text/x-python",
   "name": "python",
   "nbconvert_exporter": "python",
   "pygments_lexer": "ipython3",
   "version": "3.9.0"
  }
 },
 "nbformat": 4,
 "nbformat_minor": 4
}
