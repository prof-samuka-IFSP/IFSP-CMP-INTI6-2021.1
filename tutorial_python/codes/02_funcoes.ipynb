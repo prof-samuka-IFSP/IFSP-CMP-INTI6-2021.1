{
 "cells": [
  {
   "cell_type": "markdown",
   "metadata": {},
   "source": [
    "## 2. Funções\n",
    "\n",
    "### Esqueleto de uma função em python:\n",
    "<code>\n",
    "def functionName(param1, param2, param3=val):\n",
    "    instruction 01\n",
    "    instruction 02\n",
    "    return X\n",
    "<code>"
   ]
  },
  {
   "cell_type": "markdown",
   "metadata": {},
   "source": [
    "### Funções podem NÃO ter retorno"
   ]
  },
  {
   "cell_type": "code",
   "execution_count": 4,
   "metadata": {},
   "outputs": [
    {
     "name": "stdout",
     "output_type": "stream",
     "text": [
      "Imprimindo a variavel x:\n",
      "10\n",
      "\n",
      "Imprimindo a variavel x:\n",
      "Darth Vader\n",
      "\n"
     ]
    }
   ],
   "source": [
    "def print_parametro(x):\n",
    "    print('Imprimindo a variavel x:')\n",
    "    print(x)\n",
    "    print('')  # pula linha\n",
    "    \n",
    "a = 10\n",
    "print_parametro(a)\n",
    "\n",
    "nome = 'Darth Vader'\n",
    "print_parametro(nome)"
   ]
  },
  {
   "cell_type": "markdown",
   "metadata": {},
   "source": [
    "### Funções podem ter retorno"
   ]
  },
  {
   "cell_type": "code",
   "execution_count": 5,
   "metadata": {},
   "outputs": [
    {
     "name": "stdout",
     "output_type": "stream",
     "text": [
      "30\n"
     ]
    }
   ],
   "source": [
    "def soma(x, y):\n",
    "    return x + y\n",
    "\n",
    "a = 10\n",
    "b = 20\n",
    "c = soma(a, b)\n",
    "\n",
    "print(c)"
   ]
  },
  {
   "cell_type": "markdown",
   "metadata": {},
   "source": [
    "### Funções podem ter múltiplos retornos"
   ]
  },
  {
   "cell_type": "code",
   "execution_count": 6,
   "metadata": {},
   "outputs": [
    {
     "name": "stdout",
     "output_type": "stream",
     "text": [
      "10 + 20 = 30\n",
      "10 - 20 = -10\n"
     ]
    }
   ],
   "source": [
    "def soma_e_subtracao(x, y):\n",
    "    soma = x + y\n",
    "    sub = x - y\n",
    "    \n",
    "    return soma, sub\n",
    "\n",
    "\n",
    "a = 10\n",
    "b = 20\n",
    "\n",
    "soma, sub = soma_e_subtracao(a, b)\n",
    "\n",
    "print(f'{a} + {b} = {soma}\\n{a} - {b} = {sub}')"
   ]
  },
  {
   "cell_type": "markdown",
   "metadata": {},
   "source": [
    "### Escopo\n",
    "Todo **escopo** em Python (funções, loops, condicionais, classes, etc...) usam *dois pontos (:)* e *identação*:\n",
    "Os **dois pontos (:)** servem para _\"abrir\"_ o escopo, e _cada instrução_ dentro do escopo devem ser **identadas** à direita.\n",
    "\n",
    "Convenciona-se usar *espaços* ao invés de *tabs* para a **identação**. Todas as instruções do escopo **devem ter a mesma identação** (p. ex, a mesma quantidade de espaços)."
   ]
  },
  {
   "cell_type": "markdown",
   "metadata": {},
   "source": [
    "<code>\n",
    "def functionName(param1, param2, param3=val):\n",
    "    instruction 01  # 4 espaços de identação\n",
    "    instruction 02  # 4 espaços de identação\n",
    "    return X  # 4 espaços de identação\n",
    "</code>"
   ]
  },
  {
   "cell_type": "markdown",
   "metadata": {},
   "source": [
    "### Funções com parâmetros default (opcionais)"
   ]
  },
  {
   "cell_type": "markdown",
   "metadata": {},
   "source": [
    "Os parâmetros opcionais (ou seja, com valores _default_) devem sempre serem **os últimos parâmetros da função**."
   ]
  },
  {
   "cell_type": "code",
   "execution_count": 16,
   "metadata": {},
   "outputs": [],
   "source": [
    "def cadastrar_usuarios(sistema, usuario='root', senha='123'):\n",
    "    print(f'Cadastro de usuários no sistema {sistema}')\n",
    "    print(f'usuario: {usuario}')\n",
    "    print(f'senha: {senha}')"
   ]
  },
  {
   "cell_type": "code",
   "execution_count": 17,
   "metadata": {},
   "outputs": [
    {
     "ename": "SyntaxError",
     "evalue": "non-default argument follows default argument (<ipython-input-17-7b33ad05b38d>, line 1)",
     "output_type": "error",
     "traceback": [
      "\u001b[0;36m  File \u001b[0;32m\"<ipython-input-17-7b33ad05b38d>\"\u001b[0;36m, line \u001b[0;32m1\u001b[0m\n\u001b[0;31m    def login(sistema, usuario='root', senha):\u001b[0m\n\u001b[0m              ^\u001b[0m\n\u001b[0;31mSyntaxError\u001b[0m\u001b[0;31m:\u001b[0m non-default argument follows default argument\n"
     ]
    }
   ],
   "source": [
    "# NÃO FUNCIONA: pq o parâmetro default/opcional 'usuario' não é o último\n",
    "def login(sistema, usuario='root', senha):\n",
    "    print(f'Login no sistema {sistema}')\n",
    "    print(f'usuario: {usuario}')\n",
    "    print(f'senha: {senha}')"
   ]
  },
  {
   "cell_type": "code",
   "execution_count": 12,
   "metadata": {},
   "outputs": [
    {
     "name": "stdout",
     "output_type": "stream",
     "text": [
      "Cadastro de usuários no sistema Google\n",
      "usuario: samuka\n",
      "senha: qualquercoisa\n"
     ]
    }
   ],
   "source": [
    "sistema_1 = 'Google'\n",
    "usuario_1 = 'samuka'\n",
    "senha_1 = 'qualquercoisa'\n",
    "\n",
    "cadastrar_usuarios(sistema_1, usuario_1, senha_1)"
   ]
  },
  {
   "cell_type": "markdown",
   "metadata": {},
   "source": [
    "<br/>\n",
    "Caso o parâmetro não seja chamado, seu valor default é usado."
   ]
  },
  {
   "cell_type": "code",
   "execution_count": 14,
   "metadata": {},
   "outputs": [
    {
     "name": "stdout",
     "output_type": "stream",
     "text": [
      "Cadastro de usuários no sistema Facebook\n",
      "usuario: samuka_martins\n",
      "senha: 123\n"
     ]
    }
   ],
   "source": [
    "sistema_2 = 'Facebook'\n",
    "usuario_2 = 'samuka_martins'\n",
    "\n",
    "cadastrar_usuarios(sistema_2, usuario_2)"
   ]
  },
  {
   "cell_type": "code",
   "execution_count": 15,
   "metadata": {},
   "outputs": [
    {
     "name": "stdout",
     "output_type": "stream",
     "text": [
      "Cadastro de usuários no sistema Facebook\n",
      "usuario: root\n",
      "senha: 123\n"
     ]
    }
   ],
   "source": [
    "cadastrar_usuarios(sistema_2)"
   ]
  },
  {
   "cell_type": "markdown",
   "metadata": {},
   "source": [
    "### Parâmetros Nomeados\n",
    "Ao chamar uma função, podemos passar seus parâmetros em qualquer ordem. Basta que informemos o nome do argumento/variável da função."
   ]
  },
  {
   "cell_type": "code",
   "execution_count": 19,
   "metadata": {},
   "outputs": [
    {
     "name": "stdout",
     "output_type": "stream",
     "text": [
      "Cadastro de usuários no sistema Google\n",
      "usuario: samuka\n",
      "senha: qualquercoisa\n"
     ]
    }
   ],
   "source": [
    "cadastrar_usuarios(senha=senha_1, sistema=sistema_1, usuario=usuario_1)"
   ]
  },
  {
   "cell_type": "markdown",
   "metadata": {},
   "source": [
    "### Function Annotations (PEP 3107)\n",
    "Há a possibilidade de indicar o tipo de parâmetros e retorno de funções em Python. <br/>\n",
    "Isso se chama _function annotation_.\n",
    "\n",
    "Os tipos definidos **apenas** servem como indicativo ao programador dos tipos de dados esperados. <br/>\n",
    "Algumas bibliotecas externas também podem interpretar tais \"metas anotações\" para algum propósito.\n",
    "\n",
    "Portanto, o interpretador python **NÃO** leva essas anotações de tipos em consideração durante sua execução."
   ]
  },
  {
   "cell_type": "code",
   "execution_count": 20,
   "metadata": {},
   "outputs": [],
   "source": [
    "def soma_de_inteiros(x: int, y: int) -> int:\n",
    "    return x + y"
   ]
  },
  {
   "cell_type": "code",
   "execution_count": 21,
   "metadata": {},
   "outputs": [
    {
     "data": {
      "text/plain": [
       "30"
      ]
     },
     "execution_count": 21,
     "metadata": {},
     "output_type": "execute_result"
    }
   ],
   "source": [
    "soma_de_inteiros(10, 20)"
   ]
  },
  {
   "cell_type": "markdown",
   "metadata": {},
   "source": [
    "Parâmetros de outros tipos são aceitos e processados normalmente."
   ]
  },
  {
   "cell_type": "code",
   "execution_count": 22,
   "metadata": {},
   "outputs": [
    {
     "data": {
      "text/plain": [
       "16.0"
      ]
     },
     "execution_count": 22,
     "metadata": {},
     "output_type": "execute_result"
    }
   ],
   "source": [
    "# tb funciona, pq o interpretador python considera os tipos dinâmicos das variáveis\n",
    "soma_de_inteiros(10.5, 5.5)"
   ]
  },
  {
   "cell_type": "markdown",
   "metadata": {},
   "source": [
    "### Comentários e Docstring\n",
    "Em Python, comentários são definidos de duas maneiras:\n",
    "\n",
    "1. Utilizando # (comentário de uma linha só)"
   ]
  },
  {
   "cell_type": "code",
   "execution_count": 10,
   "metadata": {},
   "outputs": [],
   "source": [
    "# este é um comentário de uma linha só"
   ]
  },
  {
   "cell_type": "markdown",
   "metadata": {},
   "source": [
    "2. Usando _Docstrings_ (múltiplas linhas)"
   ]
  },
  {
   "cell_type": "code",
   "execution_count": 11,
   "metadata": {},
   "outputs": [
    {
     "data": {
      "text/plain": [
       "'Este é um comentário\\nde múltiplas\\nlinhas'"
      ]
     },
     "execution_count": 11,
     "metadata": {},
     "output_type": "execute_result"
    }
   ],
   "source": [
    "'''Este é um comentário\n",
    "de múltiplas\n",
    "linhas'''\n"
   ]
  },
  {
   "cell_type": "code",
   "execution_count": 12,
   "metadata": {},
   "outputs": [
    {
     "data": {
      "text/plain": [
       "'Este é outro comentário\\nde múltiplas\\nlinhas'"
      ]
     },
     "execution_count": 12,
     "metadata": {},
     "output_type": "execute_result"
    }
   ],
   "source": [
    "\"\"\"Este é outro comentário\n",
    "de múltiplas\n",
    "linhas\"\"\""
   ]
  },
  {
   "cell_type": "markdown",
   "metadata": {},
   "source": [
    "<br/>\n",
    "Docstrings podem ser usados para documentar funções:"
   ]
  },
  {
   "cell_type": "code",
   "execution_count": 23,
   "metadata": {},
   "outputs": [],
   "source": [
    "def soma(x, y):\n",
    "    '''Esta função soma dois números inteiros.\n",
    "\n",
    "    Parameters:\n",
    "    x (int): Primeiro número inteiro.\n",
    "    y (int): Segundo número inteiro.\n",
    "\n",
    "    Returns:\n",
    "    int: Soma resultante\n",
    "    '''\n",
    "    return x + y"
   ]
  },
  {
   "cell_type": "markdown",
   "metadata": {},
   "source": [
    "<br/>\n",
    "Quando uma função (ou classe) está documentada usando _docstring_, é possível usar a função **help()** para ler a documentação:"
   ]
  },
  {
   "cell_type": "code",
   "execution_count": 24,
   "metadata": {},
   "outputs": [
    {
     "name": "stdout",
     "output_type": "stream",
     "text": [
      "Help on function soma in module __main__:\n",
      "\n",
      "soma(x, y)\n",
      "    Esta função soma dois números inteiros.\n",
      "    \n",
      "    Parameters:\n",
      "    x (int): Primeiro número inteiro.\n",
      "    y (int): Segundo número inteiro.\n",
      "    \n",
      "    Returns:\n",
      "    int: Soma resultante\n",
      "\n"
     ]
    }
   ],
   "source": [
    "help(soma)"
   ]
  }
 ],
 "metadata": {
  "kernelspec": {
   "display_name": "Python 3",
   "language": "python",
   "name": "python3"
  },
  "language_info": {
   "codemirror_mode": {
    "name": "ipython",
    "version": 3
   },
   "file_extension": ".py",
   "mimetype": "text/x-python",
   "name": "python",
   "nbconvert_exporter": "python",
   "pygments_lexer": "ipython3",
   "version": "3.8.5"
  }
 },
 "nbformat": 4,
 "nbformat_minor": 4
}
